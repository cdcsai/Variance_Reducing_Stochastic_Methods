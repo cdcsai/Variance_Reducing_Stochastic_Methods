{
 "cells": [
  {
   "cell_type": "markdown",
   "metadata": {},
   "source": [
    "# SOADML - Incremental methods with second order information\n",
    "\n",
    "    Authors : Léa Bresson, Charles Dognin\n",
    "   \n",
    "The aim of this notebook is to implement and compare the algorithms introduced in 2018 by Gower et al. in the paper \"**Tracking the gradients using the Hessian : A new look at variance reducing stochastic methods**\". We discuss the efficiency of the algorithms proposed in this paper by benchmarking it against SVRG on classification and regression problems. \n",
    "\n",
    "The following methods are compared :  **a verif**\n",
    "- the original Stochastic Variance Reduced Gradient (*SVRG*) algorithm,\n",
    "- *SVRG2*, which tracks the gradients using the full Hessian,\n",
    "- *2D*, which tracks the gradients using the diagonal of the Hessian,\n",
    "- *2Dsec*, which tracks the gradients using the robust secant equation,\n",
    "- *CM*, which tracks the gradients using the low-rank curvature matching approximation of the Hessian,\n",
    "- *AM*, which uses the low-rank action matching approximation of the Hessian. \n",
    "\n",
    "First, we consider a **logistic regression** with ridge penalization using the same dataset as the authors, i.e. the *Gisette* dataset. Then, we consider a **least-squares regression** with ridge penalization (not implemented by Gower et al.) using the *Cadata* dataset from LIBSVM."
   ]
  },
  {
   "cell_type": "markdown",
   "metadata": {},
   "source": [
    "### Table of content\n",
    "[1. Loss functions and gradients for logistic regression (Gisette dataset)](#dataclassif)<br>\n",
    "[2. Loss functions and gradients for least-squares regression (Cadata dataset)](#datareg)<br>\n",
    "[3. Algorithms](#algo)<br>\n",
    "[4. Classification case : Numerical comparison](#comp1)<br>\n",
    "[5. Regression case : Numerical comparison](#comp2)<br>\n",
    "[6. Conclusions](#conc)<br>\n",
    "\n",
    "\n"
   ]
  },
  {
   "cell_type": "code",
   "execution_count": 1,
   "metadata": {
    "collapsed": true
   },
   "outputs": [],
   "source": [
    "%matplotlib inline"
   ]
  },
  {
   "cell_type": "code",
   "execution_count": 51,
   "metadata": {
    "collapsed": true
   },
   "outputs": [],
   "source": [
    "# Package Imports \n",
    "\n",
    "import matplotlib.pyplot as plt\n",
    "import numpy as np\n",
    "from tqdm import tqdm\n",
    "#from numba import njit\n",
    "from scipy.linalg import norm\n",
    "from sklearn.preprocessing import StandardScaler\n",
    "from sklearn.decomposition import PCA\n",
    "from sklearn.datasets import load_svmlight_file, load_diabetes\n",
    "from scipy.linalg import svd\n",
    "from scipy.optimize import fmin_l_bfgs_b\n",
    "import scipy\n",
    "import time"
   ]
  },
  {
   "cell_type": "markdown",
   "metadata": {},
   "source": [
    "<a id='dataclassif'></a>\n",
    "## 1. Loss functions and gradients for logistic regression (Gisette dataset)\n",
    "\n",
    "\n",
    "### Gisette Dataset Pre-Processing\n",
    "\n",
    "Gisette is a handwritten digit recognition problem inspired by the MINST dataset. The problem is to separate the highly confusable digits '4' and '9'. This is a binary classification problem. The dataset contains 5000 features and 6000 samples."
   ]
  },
  {
   "cell_type": "code",
   "execution_count": 3,
   "metadata": {
    "scrolled": true
   },
   "outputs": [
    {
     "name": "stderr",
     "output_type": "stream",
     "text": [
      "/Users/charlesdognin/anaconda3/lib/python3.6/site-packages/sklearn/utils/validation.py:475: DataConversionWarning: Data with input dtype int64 was converted to float64 by StandardScaler.\n",
      "  warnings.warn(msg, DataConversionWarning)\n"
     ]
    }
   ],
   "source": [
    "def preprocessing_y(filename):\n",
    "    data = []\n",
    "    with open(filename) as file:\n",
    "        for row in file.readlines():\n",
    "            data.append((row.strip()).split(\" \"))\n",
    "    data = np.array(data).astype(int)\n",
    "    data = np.squeeze(data, axis=1)\n",
    "    return data\n",
    "\n",
    "def preprocessing_x(filename):\n",
    "    data = []\n",
    "    with open(filename) as file:\n",
    "        for row in file.readlines():\n",
    "            data.append((row.strip()).split(\" \"))\n",
    "    data = np.array(data).astype(int)\n",
    "    return data\n",
    "\n",
    "# Here the shape of x_train is (6000, 5000) = (number of examples, dimension)\n",
    "x_train_c = preprocessing_x(\"gisette_train.data\")\n",
    "x_train_c = x_train_c\n",
    "y_train_c = preprocessing_y(\"gisette_train.labels\")\n",
    "y_train_c = y_train_c\n",
    "\n",
    "\n",
    "# Standardize features by removing the mean and scaling to unit variance\n",
    "scaler = StandardScaler()\n",
    "x_train_c = scaler.fit_transform(x_train_c)\n",
    "pca = PCA(n_components=300)\n",
    "x_train_c = pca.fit_transform(x_train_c)\n"
   ]
  },
  {
   "cell_type": "markdown",
   "metadata": {},
   "source": [
    "### Logistic loss with a squared-$ \\ell$2 regularizer\n",
    "\n",
    "We want to minimize\n",
    "$$\n",
    "\\frac 1n \\sum_{i=1}^n \\log(1 + \\exp(-y_i X_i^\\top \\theta)) + \\frac \\lambda 2 \\|\\theta\\|_2^2  = \\frac 1n \\sum_{i=1}^n f_i(\\theta)\n",
    "$$\n",
    "\n",
    "where\n",
    "$$\n",
    "f_i(\\theta) = \\log(1 + \\exp(-y_i X_i^\\top \\theta) + \\frac \\lambda 2 \\|\\theta\\|_2^2.\n",
    "$$\n",
    "\n",
    "The gradient is \n",
    "$$\n",
    "\\nabla f_i(\\theta) = - \\frac{y_i}{1 + \\exp(y_i X_i^\\top \\theta)} X_i + \\lambda \\theta.\n",
    "$$\n",
    "\n",
    "\n",
    "The Hessian is \n"
   ]
  },
  {
   "cell_type": "markdown",
   "metadata": {},
   "source": [
    "### Parameter values\n",
    "\n",
    "#### Stepsize\n",
    "The stepsize used by Gower et al. is $ \\frac{2^a}{\\max_{i=1,\\ldots,n} L_i}$ where $L_i$ the Lipschitz constant of $f_i$ . The value of $a$ is chosen through a grid search procedure for $a = 10,7...,-7,-9$. \n",
    "\n",
    "For logistic regression, using $\\|\\cdot\\|_{2}$ for the matrix spectrale norm, we have: $L_i = \\frac 14 \\| X_i \\|_2^2 + \\lambda$.\n",
    "\n",
    "\n",
    "#### Regularization parameter\n",
    "\n",
    "We use the same regularization parameter as Gower et al.: $ \\lambda= max_{i=1,…,n} \\frac{||X_i||_2^2}{ 4n}$."
   ]
  },
  {
   "cell_type": "code",
   "execution_count": 4,
   "metadata": {
    "collapsed": true
   },
   "outputs": [],
   "source": [
    "# We define the functions used in the optimization part \n",
    "\n",
    "class Classification(object):\n",
    "    \"\"\"A class for the logistic regression with ridge penalization\"\"\"\n",
    "    \n",
    "    def __init__(self, x_train, y_train, lbda):\n",
    "        self.x_train = x_train\n",
    "        self.y_train = y_train\n",
    "        self.n, self.d = x_train.shape\n",
    "        self.lbda = lbda\n",
    "        self.sigma = np.sqrt(0.1)\n",
    "\n",
    "    def loss(self, theta):\n",
    "        bAx = self.y_train * np.dot(self.x_train, theta)\n",
    "        return np.mean(np.log(1. + np.exp(- bAx))) + self.lbda * np.linalg.norm(theta) ** 2 / 2.\n",
    "\n",
    "    def grad(self, theta):\n",
    "        bAx = self.y_train * np.dot(self.x_train, theta)\n",
    "        temp = 1. / (1. + np.exp(bAx))\n",
    "        grad = - np.dot(self.x_train.T, self.y_train * temp) / self.n + self.lbda * theta\n",
    "        return grad\n",
    "    \n",
    "    def grad_i(self, i, theta):\n",
    "        grad = - self.x_train[i] * self.y_train[i] / (1. + np.exp(self.y_train[i] * np.dot(self.x_train[i], theta)))\n",
    "        grad += self.lbda * theta\n",
    "        return grad\n",
    "            \n",
    "    def hess(self, theta):\n",
    "        D = np.exp(self.y_train * np.dot(self.x_train, theta)) / (1 + np.exp(self.y_train * np.dot(self.x_train, theta))**2)\n",
    "        D = np.diag(D)\n",
    "        hess = self.x_train.T.dot(D.dot(self.x_train)) / n + self.lbda\n",
    "        #hess = np.mean([self.hess_i(i, theta) for i in range(self.n)], axis=0)\n",
    "        return hess\n",
    "        \n",
    "    def hess_i(self, i, theta):\n",
    "        temp = np.exp(self.y_train[i] * np.dot(self.x_train[i], theta)) / ((1. + np.exp(self.y_train[i] * np.dot(self.x_train[i], theta))) ** 2)\n",
    "        xy = self.x_train[i] * self.y_train[i] \n",
    "        xy = np.expand_dims(xy, axis=1)\n",
    "        hess = np.dot(xy, xy.T) * temp + self.lbda\n",
    "        return hess \n",
    "    \n",
    "    def hess_i_diag(self, i, theta, theta_bar):\n",
    "        a = (theta - theta_bar) * (self.grad_i(i, theta) - self.grad_i(i, theta_bar)) + (self.sigma ** 2) * np.diag(np.diag(self.hess_i(i, theta_bar)))\n",
    "        b = (theta - theta_bar) * (theta - theta_bar) + self.sigma ** 2\n",
    "        return a / b\n",
    "    \n",
    "    def lipschitz_constant(self):\n",
    "        return np.linalg.norm(self.x_train, ord=2) ** 2 / (4. * self.n) + self.lbda  "
   ]
  },
  {
   "cell_type": "markdown",
   "metadata": {},
   "source": [
    "### Get a very precise minimum to compute distances to minimum\n",
    "\n",
    "Gower et al. use the relative suboptimality gap to assess the efficiency of the proposed algorithms: $$\\frac{f(\\theta)-f(\\theta^*)}{f(\\theta_0) - f(\\theta^*)}$$\n",
    "\n",
    "To compute the relative suboptimality gap, we assume that $ \\theta^*$ is given by the ``scipy.optimize``'s BFGS solver."
   ]
  },
  {
   "cell_type": "code",
   "execution_count": 5,
   "metadata": {},
   "outputs": [
    {
     "name": "stdout",
     "output_type": "stream",
     "text": [
      "The min of the loss is 0.32300864484638203\n"
     ]
    }
   ],
   "source": [
    "n,d = x_train_c.shape\n",
    "x_init_c = np.zeros(d)\n",
    "lbda = np.max(np.sum(x_train_c**2, axis=1)) / (4.*n)\n",
    "\n",
    "model = Classification(x_train_c, y_train_c, lbda)\n",
    "x_min_c, f_min_c, _ = fmin_l_bfgs_b(model.loss, x_init_c, model.grad, pgtol=1e-30, factr=1e-30)\n",
    "\n",
    "print(\"The min of the loss is\" , f_min_c)"
   ]
  },
  {
   "cell_type": "markdown",
   "metadata": {},
   "source": [
    "<a id='datareg'></a>\n",
    "## 2. Loss functions and gradients for least-squares regression (Cadata dataset)\n",
    "\n",
    "\n",
    "### Cadata Dataset Pre-Processing\n",
    "\n",
    "The California housing dataset (Cadata) contains details related to the housing of the population in a given California district (number of people in a certain area, geographic area, average income, housing average age, average rooms, etc.). The average house value is the target variable.\n",
    "The dataset contains 8 features and 20640 samples."
   ]
  },
  {
   "cell_type": "code",
   "execution_count": 6,
   "metadata": {},
   "outputs": [
    {
     "name": "stdout",
     "output_type": "stream",
     "text": [
      "(20640, 8)\n"
     ]
    }
   ],
   "source": [
    "x_train , y_train = load_svmlight_file(\"cadata.txt\")\n",
    "\n",
    "# Here the shape of x_train is (20640, 8) = (dimension, number of examples)\n",
    "x_train = x_train.toarray()\n",
    "y_train = y_train.reshape((y_train.size, 1))\n",
    "print(x_train.shape)\n",
    "\n",
    "# Standardize features by removing the mean and scaling to unit variance\n",
    "scaler = StandardScaler()\n",
    "x_train_r = scaler.fit_transform(x_train)\n",
    "y_train = scaler.fit_transform(y_train)\n",
    "y_train_r = y_train.reshape((y_train.size,))"
   ]
  },
  {
   "cell_type": "markdown",
   "metadata": {},
   "source": [
    "### Least-squares loss with a squared-$ \\ell$2 regularizer\n",
    "\n",
    "We want to minimize\n",
    "$$\n",
    "\\frac 1n \\sum_{i=1}^n \\frac 12 (y_i - X_i^\\top \\theta)^2 + \\frac \\lambda 2 \\|\\theta\\|_2^2 = \\frac 1n \\sum_{i=1}^n f_i(\\theta)\n",
    "$$\n",
    "\n",
    "where\n",
    "$$\n",
    "f_i(\\theta) = \\frac 12 (y_i - X_i^\\top \\theta)^2  + \\frac \\lambda 2 \\|\\theta\\|_2^2.\n",
    "$$\n",
    "\n",
    "The gradient is\n",
    "$$\n",
    "\\nabla f_i(\\theta) = (X_i^\\top \\theta - y_i) X_i + \\lambda \\theta\n",
    "$$\n",
    "\n",
    "The hessian is\n",
    "$$\n",
    "H_i(\\theta) = X_i {X_i}^{T} + \\lambda I\n",
    "$$\n"
   ]
  },
  {
   "cell_type": "markdown",
   "metadata": {},
   "source": [
    "### Parameter values\n",
    "\n",
    "#### Stepsize\n",
    "The stepsize used is $ \\frac{2^a}{\\max_{i=1,\\ldots,n} L_i}$ where $L_i$ the Lipschitz constant of $f_i$ and $a = 2^4$. **à verif // à voir + tard The value of $a$ is chosen through a grid search procedure for $a=10,7...,−7,−9$. **\n",
    "\n",
    "For least-squares regression, using $\\|\\cdot\\|_{2}$ for the matrix spectrale norm, we have: $L_i = \\| X_i \\|_2^2 + \\lambda$.\n",
    "\n",
    "\n",
    "#### Regularization parameter\n",
    "\n",
    "The regularization parameter is set to $ \\lambda= max_{i=1,…,n} \\frac{||X_i||_2^2}{n}$.."
   ]
  },
  {
   "cell_type": "code",
   "execution_count": 7,
   "metadata": {
    "collapsed": true
   },
   "outputs": [],
   "source": [
    "# We define the functions used in the optimization part \n",
    "\n",
    "class Regression(object):\n",
    "    \"\"\"A class for the least-squares regression with ridge penalization\"\"\"\n",
    "\n",
    "    def __init__(self, x_train, y_train, lbda):\n",
    "        self.x_train = x_train\n",
    "        self.y_train = y_train\n",
    "        self.n, self.d = x_train.shape\n",
    "        self.lbda = lbda\n",
    "        self.sigma = np.sqrt(0.1)\n",
    "\n",
    "    def grad(self, theta):\n",
    "        return self.x_train.T.dot(self.x_train.dot(theta) - self.y_train) / self.n + self.lbda * theta\n",
    "\n",
    "    def loss(self, theta):\n",
    "        return norm(self.x_train.dot(theta) - self.y_train) ** 2 / (2. * self.n) + self.lbda * norm(theta) ** 2 / 2.\n",
    "\n",
    "    def grad_i(self, i, theta):\n",
    "        a_i = self.x_train[i]\n",
    "        return (a_i.dot(theta) - self.y_train[i]) * a_i + self.lbda * theta\n",
    "    \n",
    "    def hess(self, theta=None): \n",
    "        hess = np.dot(self.x_train.T, self.x_train) / self.n + self.lbda\n",
    "        return hess \n",
    "    \n",
    "    def hess_i(self, i, theta=None):\n",
    "        a_i = self.x_train[i]\n",
    "        a_i = np.expand_dims(a_i, axis=1)\n",
    "        hess = np.dot(a_i, a_i.T) + self.lbda\n",
    "        return hess\n",
    "    \n",
    "    def hess_i_diag(self, i, theta, theta_bar):\n",
    "        a = (theta - theta_bar) * (self.grad_i(i, theta) - self.grad_i(i, theta_bar)) + (self.sigma ** 2) * np.diag(np.diag(self.hess_i(i, theta_bar)))\n",
    "        b = (theta - theta_bar) * (theta - theta_bar) + self.sigma ** 2\n",
    "        return a / b\n",
    "        \n",
    "    def lipschitz_constant(self):\n",
    "        \"\"\"Return the Lipschitz constant of the gradient\"\"\"\n",
    "        return norm(self.x_train, ord=2) ** 2 / self.n + self.lbda"
   ]
  },
  {
   "cell_type": "markdown",
   "metadata": {},
   "source": [
    "### Get a very precise minimum to compute distances to minimum\n",
    "\n",
    "To compute the relative suboptimality gap, we assume that $ \\theta^*$ is given by the ``scipy.optimize``'s BFGS solver."
   ]
  },
  {
   "cell_type": "code",
   "execution_count": 8,
   "metadata": {},
   "outputs": [
    {
     "name": "stdout",
     "output_type": "stream",
     "text": [
      "The min of the loss is 0.22100996724158628\n"
     ]
    }
   ],
   "source": [
    "n,d = x_train_r.shape\n",
    "x_init_r = np.zeros(d)\n",
    "lbda = np.max(np.sum(x_train_r**2, axis=1))  / n\n",
    "\n",
    "model = Regression(x_train_r, y_train_r, lbda)\n",
    "x_min_r, f_min_r, _ = fmin_l_bfgs_b(model.loss, x_init_r, model.grad, pgtol=1e-30, factr=1e-30)\n",
    "\n",
    "print(\"The min of the loss is\" , f_min_r)"
   ]
  },
  {
   "cell_type": "markdown",
   "metadata": {},
   "source": [
    "<a id='algo'></a>\n",
    "## 3. Algorithms\n",
    "\n"
   ]
  },
  {
   "cell_type": "markdown",
   "metadata": {},
   "source": [
    "**Number of iterations :** \n",
    "\n",
    "According to Johnson and Zhang (in \"*Accelerating Stochastic Gradient Descent using predictive Variance Reduction*\") ``itr2`` must be the same order of $n$. Concerning ``itr1``, we arbitrary set it to 100.\n"
   ]
  },
  {
   "cell_type": "markdown",
   "metadata": {},
   "source": [
    "## SVRG"
   ]
  },
  {
   "cell_type": "code",
   "execution_count": 9,
   "metadata": {
    "collapsed": true
   },
   "outputs": [],
   "source": [
    "def optimize_svrg(itr1, itr2, x_train, y_train, stepsize, theta_min=[], f_min=[], verbose=True):\n",
    "    \"\"\"Stochastic variance reduction gradient algorithm.\n",
    "\n",
    "    Output\n",
    "    ----------\n",
    "    theta_bar : np.ndarray, shape=(d,)\n",
    "                The final theta vector found by the algorithm   \n",
    "        \n",
    "    errors: list\n",
    "            Sequence of errors || theta - theta_min || of the algorithm\n",
    "            \n",
    "    relative_objectives: list\n",
    "            Sequence of relative suboptimality gap [f(theta) - f(theta_min)] / [f(theta_0) - f(theta_min)] of the algorithm\n",
    "            \n",
    "    grad_norm: list\n",
    "             Sequence of gradient norms calculated during the iterations of the algorithm\n",
    "    \n",
    "    timing: list\n",
    "             Sequence of time taken during the iterations of the algorithm\n",
    "    \n",
    "    \"\"\"  \n",
    "    \n",
    "    # Initialization\n",
    "    n,d = x_train.shape\n",
    "    theta_init = np.zeros(d)\n",
    "    theta_bar = theta_init.copy()\n",
    "    \n",
    "    # History \n",
    "    grad_norm = []\n",
    "    errors = [] \n",
    "    relative_objectives = []\n",
    "    t0 = time.time()\n",
    "    timing = []\n",
    "\n",
    "    grad_norm.append(np.linalg.norm(model.grad(theta_bar)))\n",
    "    err = norm(theta_bar - theta_min) #/ norm(theta_min) #a voir \n",
    "    errors.append(err)\n",
    "    obj = model.loss(theta_bar) - f_min\n",
    "    relative = model.loss(theta_init) - f_min    \n",
    "    relative_objectives.append(obj/relative)\n",
    "    tim = time.time()-t0\n",
    "    timing.append(tim)\n",
    "\n",
    "    \n",
    "    # Algorithm  \n",
    "    for k in range(1, itr1+1):\n",
    "        grad_k =  model.grad(theta_bar)\n",
    "        theta = theta_bar.copy()\n",
    "        \n",
    "        for t in range(itr2): \n",
    "            i = np.random.randint(0, n) \n",
    "            theta = theta - stepsize * (model.grad_i(i, theta) - model.grad_i(i, theta_bar) + grad_k)  \n",
    "            \n",
    "        theta_bar = theta\n",
    "        \n",
    "        obj = model.loss(theta_bar) - f_min\n",
    "        robj = obj/relative\n",
    "        err = norm(theta_bar - theta_min) \n",
    "        errors.append(err)\n",
    "        relative_objectives.append(robj)\n",
    "        grad_norm.append(np.linalg.norm(model.grad(theta_bar)))\n",
    "        tim = time.time()-t0\n",
    "        timing.append(tim)\n",
    "        \n",
    "        if verbose:\n",
    "            if k == 1:\n",
    "                print(\"Lauching SVRG solver...\")\n",
    "                print(' | '.join([name.center(10) for name in [\"it\", \"err\", \"subopt_gap\", \"time\", \"loss\"]]))\n",
    "            if (k % 10) == 0:\n",
    "                print(' | '.join([(\"%d\" % k).rjust(10), (\"%.4e\" % err).rjust(10), (\"%.4e\" % robj).rjust(10), (\"%.4e\" % tim).rjust(10), (\"%.4e\" % model.loss(theta_bar)).rjust(10)]))\n",
    "            \n",
    "            \n",
    "    return theta_bar, np.array(errors), np.array(relative_objectives), grad_norm, np.array(timing)"
   ]
  },
  {
   "cell_type": "markdown",
   "metadata": {},
   "source": [
    "### Test "
   ]
  },
  {
   "cell_type": "code",
   "execution_count": 10,
   "metadata": {},
   "outputs": [
    {
     "name": "stdout",
     "output_type": "stream",
     "text": [
      "\u001b[1m SVRG - Classification (Gisette Dataset): \u001b[0m\n",
      "Lauching SVRG solver...\n",
      "    it     |    err     | subopt_gap |    time    |    loss   \n",
      "        10 | 2.5503e-05 | 4.2444e-09 | 2.2855e+00 | 3.2301e-01\n",
      "        20 | 3.9107e-08 | 9.8983e-15 | 4.5275e+00 | 3.2301e-01\n",
      "        30 | 1.4641e-09 | -1.4997e-16 | 6.7287e+00 | 3.2301e-01\n",
      "        40 | 1.4632e-09 | 0.0000e+00 | 8.9446e+00 | 3.2301e-01\n",
      "        50 | 1.4632e-09 | -1.4997e-16 | 1.1235e+01 | 3.2301e-01\n",
      "        60 | 1.4632e-09 | -1.4997e-16 | 1.3564e+01 | 3.2301e-01\n",
      "        70 | 1.4632e-09 | -1.4997e-16 | 1.5794e+01 | 3.2301e-01\n",
      "        80 | 1.4632e-09 | -1.4997e-16 | 1.7997e+01 | 3.2301e-01\n",
      "        90 | 1.4632e-09 | -1.4997e-16 | 2.0242e+01 | 3.2301e-01\n",
      "       100 | 1.4632e-09 | -1.4997e-16 | 2.2470e+01 | 3.2301e-01\n"
     ]
    }
   ],
   "source": [
    "print(\"\\033[1m SVRG - Classification (Gisette Dataset): \\033[0m\")\n",
    "\n",
    "n = x_train_c.shape[0]\n",
    "lbda = np.max(np.sum(x_train_c ** 2, axis=1))  / (4. * n)\n",
    "\n",
    "model = Classification(x_train_c, y_train_c, lbda)\n",
    "max_squared_sum = np.max(np.sum(x_train_c ** 2, axis=1)) \n",
    "stepsize = 2**5 / (max_squared_sum + lbda) # 2^4 ou 2^5 <= à voir\n",
    "\n",
    "svrg_theta_c, svrg_err_c, svrg_robj_c, svrg_grad_norm_c, svrg_time_c = optimize_svrg(100, n, x_train_c, y_train_c, stepsize, x_min_c, f_min_c)"
   ]
  },
  {
   "cell_type": "code",
   "execution_count": 11,
   "metadata": {},
   "outputs": [
    {
     "name": "stdout",
     "output_type": "stream",
     "text": [
      "\u001b[1mRegression (Cadata Dataset): \u001b[0m\n",
      "\n",
      "Lauching SVRG solver...\n",
      "    it     |    err     | subopt_gap |    time    |    loss   \n",
      "        10 | 5.0296e-02 | 1.0995e-02 | 2.9889e+00 | 2.2408e-01\n",
      "        20 | 2.2967e-04 | 2.8413e-07 | 5.8268e+00 | 2.2101e-01\n",
      "        30 | 1.4218e-07 | 1.4326e-14 | 8.7371e+00 | 2.2101e-01\n",
      "        40 | 6.0216e-08 | 2.7856e-15 | 1.1532e+01 | 2.2101e-01\n",
      "        50 | 5.1286e-09 | 0.0000e+00 | 1.4344e+01 | 2.2101e-01\n",
      "        60 | 3.8095e-08 | 4.5764e-15 | 1.7343e+01 | 2.2101e-01\n",
      "        70 | 5.5663e-09 | 1.9897e-16 | 2.0145e+01 | 2.2101e-01\n",
      "        80 | 5.8987e-09 | 9.9486e-17 | 2.3080e+01 | 2.2101e-01\n",
      "        90 | 5.8969e-09 | 1.9897e-16 | 2.6041e+01 | 2.2101e-01\n",
      "       100 | 5.8970e-09 | 2.9846e-16 | 2.8926e+01 | 2.2101e-01\n"
     ]
    }
   ],
   "source": [
    "print(\"\\033[1mRegression (Cadata Dataset): \\033[0m\")\n",
    "print(\"\")\n",
    "\n",
    "n = x_train_r.shape[0]\n",
    "lbda = np.max(np.sum(x_train_r ** 2, axis=1))  / n\n",
    "\n",
    "model = Regression(x_train_r, y_train_r, lbda)\n",
    "max_squared_sum = np.max(np.sum(x_train_r ** 2, axis=1)) \n",
    "stepsize = 2**5 / (max_squared_sum + lbda) # 2^4 ou 2^5 <= à voir\n",
    "\n",
    "svrg_theta_r, svrg_err_r, svrg_robj_r, svrg_grad_norm_r, svrg_time_r = optimize_svrg(100, n, x_train_r, y_train_r, stepsize, x_min_r, f_min_r)"
   ]
  },
  {
   "cell_type": "markdown",
   "metadata": {},
   "source": [
    "## SVRG2"
   ]
  },
  {
   "cell_type": "code",
   "execution_count": 12,
   "metadata": {
    "collapsed": true
   },
   "outputs": [],
   "source": [
    "def optimize_svrg_2(itr1, itr2, x_train, y_train, stepsize, theta_min=[], f_min=[], verbose=True):\n",
    "    \"\"\"\"Stochastic variance reduction gradient algorithm with second-order tracking.\n",
    "\n",
    "    Output\n",
    "    ----------\n",
    "    theta_bar : np.ndarray, shape=(d,)\n",
    "                The final x vector found by the algorithm   \n",
    "        \n",
    "    errors: list\n",
    "            Sequence of errors || x - x_min || of the algorithm\n",
    "            \n",
    "    relative_objectives: list\n",
    "            Sequence of relative suboptimality gap [f(x) - f(x_min)] / [f(x_0) - f(x_min)] of the algorithm\n",
    "            \n",
    "    grad_norm: list\n",
    "             Sequence of gradient norms calculated during the iterations of the algorithm\n",
    "    \n",
    "    timing: list\n",
    "             Sequence of time taken during the iterations of the algorithm\n",
    "    \n",
    "    \"\"\"  \n",
    "    \n",
    "    # Initialization\n",
    "    n,d = x_train.shape\n",
    "    theta_init = np.zeros(d)\n",
    "    theta_bar = theta_init.copy()\n",
    "    \n",
    "    # History \n",
    "    grad_norm = []\n",
    "    errors = [] \n",
    "    relative_objectives = []\n",
    "    t0 = time.time()\n",
    "    timing = []\n",
    "\n",
    "    grad_norm.append(np.linalg.norm(model.grad(theta_bar)))\n",
    "    err = norm(theta_bar - theta_min) #/ norm(theta_min) #\n",
    "    errors.append(err)\n",
    "    obj = model.loss(theta_bar) - f_min\n",
    "    relative = model.loss(theta_init) - f_min    \n",
    "    relative_objectives.append(obj / relative)\n",
    "    tim = time.time() - t0\n",
    "    timing.append(tim)\n",
    "    \n",
    "    for k in range(1, itr1+1):\n",
    "        grad_k =  model.grad(theta_bar)\n",
    "        hess_k = model.hess(theta_bar)\n",
    "        theta = theta_bar.copy()\n",
    "        \n",
    "        for t in range(itr2):\n",
    "            i = np.random.randint(0, n)\n",
    "            \n",
    "            theta = theta - stepsize * (model.grad_i(i, theta) - model.grad_i(i, theta_bar)\n",
    "                                        - np.dot(model.hess_i(i, theta_bar), theta - theta_bar)\n",
    "                                        + grad_k + np.dot(hess_k, theta - theta_bar))\n",
    "        theta_bar = theta\n",
    "    \n",
    "        obj = model.loss(theta_bar) - f_min\n",
    "        robj = obj/relative\n",
    "        err = norm(theta_bar - theta_min) \n",
    "        errors.append(err)\n",
    "        relative_objectives.append(robj)\n",
    "        grad_norm.append(np.linalg.norm(model.grad(theta_bar)))\n",
    "        tim = time.time() - t0\n",
    "        timing.append(tim)\n",
    "        \n",
    "        if verbose:\n",
    "            if k == 1:\n",
    "                print(\"Lauching SVRG2 solver...\")\n",
    "                print(' | '.join([name.center(10) for name in [\"it\", \"err\", \"subopt_gap\", \"time\", \"loss\"]]))\n",
    "            if (k % 10) == 0:\n",
    "                print(' | '.join([(\"%d\" % k).rjust(10), (\"%.4e\" % err).rjust(10), (\"%.4e\" % robj).rjust(10), (\"%.4e\" % tim).rjust(10), (\"%.4e\" % model.loss(theta_bar)).rjust(10)]))\n",
    "            \n",
    "            \n",
    "    return theta_bar, np.array(errors), np.array(relative_objectives), grad_norm, np.array(timing)"
   ]
  },
  {
   "cell_type": "markdown",
   "metadata": {},
   "source": [
    "### Test "
   ]
  },
  {
   "cell_type": "code",
   "execution_count": 13,
   "metadata": {},
   "outputs": [
    {
     "name": "stdout",
     "output_type": "stream",
     "text": [
      "\u001b[1m SVRG2 - Classification (Gisette Dataset): \u001b[0m\n",
      "Lauching SVRG2 solver...\n",
      "    it     |    err     | subopt_gap |    time    |    loss   \n",
      "        10 | 1.8995e-06 | 6.5809e-11 | 1.8602e+01 | 3.2301e-01\n",
      "        20 | 1.4696e-09 | -1.4997e-16 | 3.7185e+01 | 3.2301e-01\n",
      "        30 | 1.4632e-09 | -1.4997e-16 | 5.5850e+01 | 3.2301e-01\n",
      "        40 | 1.4632e-09 | 0.0000e+00 | 7.4512e+01 | 3.2301e-01\n",
      "        50 | 1.4632e-09 | 0.0000e+00 | 9.3311e+01 | 3.2301e-01\n",
      "        60 | 1.4632e-09 | 0.0000e+00 | 1.1205e+02 | 3.2301e-01\n",
      "        70 | 1.4632e-09 | 0.0000e+00 | 1.3068e+02 | 3.2301e-01\n",
      "        80 | 1.4632e-09 | 0.0000e+00 | 1.4958e+02 | 3.2301e-01\n",
      "        90 | 1.4632e-09 | 0.0000e+00 | 1.6876e+02 | 3.2301e-01\n",
      "       100 | 1.4632e-09 | 0.0000e+00 | 1.8882e+02 | 3.2301e-01\n"
     ]
    }
   ],
   "source": [
    "print(\"\\033[1m SVRG2 - Classification (Gisette Dataset): \\033[0m\")\n",
    "\n",
    "n = x_train_c.shape[0]\n",
    "lbda = np.max(np.sum(x_train_c ** 2, axis=1))  / (4. * n)\n",
    "\n",
    "model = Classification(x_train_c, y_train_c, lbda)\n",
    "max_squared_sum = np.max(np.sum(x_train_c ** 2, axis=1)) \n",
    "stepsize = 2**5 / (max_squared_sum + lbda) # 2^4 ou 2^5 <= à voir\n",
    "\n",
    "svrg2_theta_c, svrg2_err_c, svrg2_robj_c, svrg2_grad_norm_c, svrg2_time_c = optimize_svrg_2(100, n, x_train_c, y_train_c, stepsize, x_min_c, f_min_c)"
   ]
  },
  {
   "cell_type": "code",
   "execution_count": 14,
   "metadata": {},
   "outputs": [
    {
     "name": "stdout",
     "output_type": "stream",
     "text": [
      "\u001b[1m SVRG2 - Regression (Cadata Dataset): \u001b[0m\n",
      "Lauching SVRG2 solver...\n",
      "    it     |    err     | subopt_gap |    time    |    loss   \n",
      "        10 | 5.8970e-09 | 0.0000e+00 | 4.8983e+00 | 2.2101e-01\n",
      "        20 | 5.8970e-09 | 1.9897e-16 | 9.5780e+00 | 2.2101e-01\n",
      "        30 | 5.8970e-09 | 1.9897e-16 | 1.4236e+01 | 2.2101e-01\n",
      "        40 | 5.8970e-09 | 1.9897e-16 | 1.8904e+01 | 2.2101e-01\n",
      "        50 | 5.8970e-09 | 1.9897e-16 | 2.3581e+01 | 2.2101e-01\n",
      "        60 | 5.8970e-09 | 1.9897e-16 | 2.8364e+01 | 2.2101e-01\n",
      "        70 | 5.8970e-09 | 9.9486e-17 | 3.3131e+01 | 2.2101e-01\n",
      "        80 | 5.8970e-09 | 0.0000e+00 | 3.7794e+01 | 2.2101e-01\n",
      "        90 | 5.8970e-09 | 1.9897e-16 | 4.2460e+01 | 2.2101e-01\n",
      "       100 | 5.8970e-09 | 9.9486e-17 | 4.7158e+01 | 2.2101e-01\n"
     ]
    }
   ],
   "source": [
    "# When the stepsize is too important, we encounter an overflow\n",
    "\n",
    "print(\"\\033[1m SVRG2 - Regression (Cadata Dataset): \\033[0m\")\n",
    "\n",
    "n = x_train_r.shape[0]\n",
    "lbda = np.max(np.sum(x_train_r ** 2, axis=1)) / n\n",
    "\n",
    "model = Regression(x_train_r, y_train_r, lbda)\n",
    "max_squared_sum = np.max(np.sum(x_train_r ** 2, axis=1)) \n",
    "stepsize = 2**5 / (max_squared_sum + lbda) # 2^4 ou 2^5 <= à voir\n",
    "\n",
    "svrg2_theta_r, svrg2_err_r, svrg2_robj_r, svrg2_grad_norm_r, svrg2_time_r = optimize_svrg_2(100, n, x_train_r, y_train_r, stepsize, x_min_r, f_min_r)"
   ]
  },
  {
   "cell_type": "markdown",
   "metadata": {},
   "source": [
    "## Diagonal approximation "
   ]
  },
  {
   "cell_type": "code",
   "execution_count": 15,
   "metadata": {},
   "outputs": [],
   "source": [
    "def optimize_diag(itr1, itr2, x_train, y_train, stepsize, theta_min=[], f_min=[], verbose=True):\n",
    "    \"\"\"\"Stochastic variance reduction gradient algorithm with diagonal approximation.\n",
    "\n",
    "    Output\n",
    "    ----------\n",
    "    theta_bar : np.ndarray, shape=(d,)\n",
    "                The final x vector found by the algorithm   \n",
    "        \n",
    "    errors: list\n",
    "            Sequence of errors || x - x_min || of the algorithm\n",
    "            \n",
    "    relative_objectives: list\n",
    "            Sequence of relative suboptimality gap [f(x) - f(x_min)] / [f(x_0) - f(x_min)] of the algorithm\n",
    "            \n",
    "    grad_norm: list\n",
    "             Sequence of gradient norms calculated during the iterations of the algorithm\n",
    "    \n",
    "    timing: list\n",
    "             Sequence of time taken during the iterations of the algorithm\n",
    "    \n",
    "    \"\"\"  \n",
    "    \n",
    "    # Initialization\n",
    "    n,d = x_train.shape\n",
    "    theta = np.zeros(d)\n",
    "    theta_bar = theta.copy()\n",
    "    \n",
    "    # History \n",
    "    grad_norm = []\n",
    "    errors = [] \n",
    "    relative_objectives = []\n",
    "    t0 = time.time()\n",
    "    timing = []\n",
    "\n",
    "    grad_norm.append(np.linalg.norm(model.grad(theta_bar)))\n",
    "    err = norm(theta_bar - theta_min) \n",
    "    errors.append(err)\n",
    "    obj = model.loss(theta_bar) - f_min\n",
    "    relative = model.loss(theta) - f_min    \n",
    "    relative_objectives.append(obj / relative)\n",
    "    tim = time.time() - t0\n",
    "    timing.append(tim)\n",
    "\n",
    "    \n",
    "    # Algorithm  \n",
    "    for k in range(1, itr1+1):\n",
    "        grad_k =  model.grad(theta_bar)\n",
    "        hess_k = model.hess(theta_bar)\n",
    "        theta = theta_bar.copy()\n",
    "        \n",
    "        for t in range(itr2):\n",
    "            i = np.random.randint(0, n)\n",
    "            theta = theta - stepsize * (model.grad_i(i, theta) - model.grad_i(i, theta_bar)\n",
    "                                        - np.dot(model.hess_i_diag(i, theta, theta_bar), theta - theta_bar)\n",
    "                                        + grad_k + np.dot(hess_k, theta - theta_bar))\n",
    "            \n",
    "        theta_bar = theta\n",
    "        obj = model.loss(theta_bar) - f_min\n",
    "        robj = obj/relative\n",
    "        err = norm(theta_bar - theta_min) \n",
    "        errors.append(err)\n",
    "        relative_objectives.append(robj)\n",
    "        grad_norm.append(np.linalg.norm(model.grad(theta_bar)))\n",
    "        tim = time.time() - t0\n",
    "        timing.append(tim)\n",
    "        \n",
    "        \n",
    "        if verbose:\n",
    "            if k == 1:\n",
    "                print(\"Lauching SVRG2 solver...\")\n",
    "                print(' | '.join([name.center(10) for name in [\"it\", \"err\", \"subopt_gap\", \"time\", \"loss\"]]))\n",
    "            if (k % 10) == 0:\n",
    "                print(' | '.join([(\"%d\" % k).rjust(10), (\"%.4e\" % err).rjust(10), (\"%.4e\" % robj).rjust(10), (\"%.4e\" % tim).rjust(10), (\"%.4e\" % model.loss(theta_bar)).rjust(10)]))\n",
    "            \n",
    "    return theta_bar, np.array(errors), np.array(relative_objectives), grad_norm, np.array(timing)"
   ]
  },
  {
   "cell_type": "markdown",
   "metadata": {},
   "source": [
    "### Test"
   ]
  },
  {
   "cell_type": "code",
   "execution_count": 16,
   "metadata": {},
   "outputs": [
    {
     "name": "stdout",
     "output_type": "stream",
     "text": [
      "\u001b[1m SVRG_DIAG - Classification (Gisette Dataset): \u001b[0m\n",
      "Lauching SVRG2 solver...\n",
      "    it     |    err     | subopt_gap |    time    |    loss   \n",
      "        10 | 6.7879e-03 | 1.9917e-04 | 3.7036e+01 | 3.2308e-01\n",
      "        20 | 6.5178e-03 | 1.8363e-04 | 7.1727e+01 | 3.2308e-01\n",
      "        30 | 6.2584e-03 | 1.6930e-04 | 1.0630e+02 | 3.2307e-01\n",
      "        40 | 6.0093e-03 | 1.5609e-04 | 1.4174e+02 | 3.2307e-01\n",
      "        50 | 5.7702e-03 | 1.4390e-04 | 1.7872e+02 | 3.2306e-01\n",
      "        60 | 5.5405e-03 | 1.3267e-04 | 2.1452e+02 | 3.2306e-01\n",
      "        70 | 5.3201e-03 | 1.2233e-04 | 2.4905e+02 | 3.2305e-01\n",
      "        80 | 5.1084e-03 | 1.1278e-04 | 2.8363e+02 | 3.2305e-01\n",
      "        90 | 4.9052e-03 | 1.0398e-04 | 3.1786e+02 | 3.2305e-01\n",
      "       100 | 4.7101e-03 | 9.5872e-05 | 3.5224e+02 | 3.2304e-01\n"
     ]
    }
   ],
   "source": [
    "print(\"\\033[1m SVRG_DIAG - Classification (Gisette Dataset): \\033[0m\")\n",
    "n = x_train_c.shape[0]\n",
    "lbda = np.max(np.sum(x_train_c ** 2, axis=1))  / (4. * n)\n",
    "\n",
    "model = Classification(x_train_c, y_train_c, lbda)\n",
    "max_squared_sum = np.max(np.sum(x_train_c ** 2, axis=1)) \n",
    "stepsize = 2**1 / (max_squared_sum + lbda) # Ne pas mettre plus élevé sinon overflow\n",
    "\n",
    "svrg2_theta_c, svrg2_err_c, svrg2_robj_c, svrg2_grad_norm_c, svrg2_time_c = optimize_diag(100, n, x_train_c, y_train_c, stepsize, x_min_c, f_min_c)"
   ]
  },
  {
   "cell_type": "code",
   "execution_count": 25,
   "metadata": {},
   "outputs": [
    {
     "name": "stdout",
     "output_type": "stream",
     "text": [
      "\u001b[1m SVRG_DIAG - Regression (Cadata Dataset): \u001b[0m\n",
      "Lauching SVRG2 solver...\n",
      "    it     |    err     | subopt_gap |    time    |    loss   \n",
      "        10 | 9.6815e-01 | 7.1176e+04 | 1.0643e+01 | 1.9858e+04\n",
      "        20 | 9.6524e-01 | 5.6179e+04 | 2.1228e+01 | 1.5674e+04\n",
      "        30 | 9.6141e-01 | 2.0527e+03 | 3.1662e+01 | 5.7291e+02\n",
      "        40 | 9.6753e-01 | 2.0136e+04 | 4.2355e+01 | 5.6181e+03\n",
      "        50 | 9.7899e-01 | 2.5613e+05 | 5.2996e+01 | 7.1458e+04\n",
      "        60 | 9.6539e-01 | 1.7930e+04 | 6.3575e+01 | 5.0026e+03\n",
      "        70 | 9.7165e-01 | 1.1211e+05 | 7.3963e+01 | 3.1278e+04\n",
      "        80 | 9.6410e-01 | 8.5312e+03 | 8.4584e+01 | 2.3803e+03\n",
      "        90 | 9.6823e-01 | 8.4145e+04 | 9.4938e+01 | 2.3476e+04\n",
      "       100 | 9.6271e-01 | 3.8602e+04 | 1.0536e+02 | 1.0770e+04\n"
     ]
    }
   ],
   "source": [
    "# When the stepsize is too important, we encounter an overflow\n",
    "\n",
    "print(\"\\033[1m SVRG_DIAG - Regression (Cadata Dataset): \\033[0m\")\n",
    "\n",
    "n = x_train_r.shape[0]\n",
    "lbda = np.max(np.sum(x_train_r ** 2, axis=1)) / 6 * n # Plus petit lambda sinon overflow\n",
    "\n",
    "model = Regression(x_train_r, y_train_r, lbda)\n",
    "max_squared_sum = np.max(np.sum(x_train_r ** 2, axis=1)) \n",
    "stepsize = 2**1 / (max_squared_sum + lbda) # 2^4 ou 2^5 <= à voir\n",
    "\n",
    "svrg2_theta_r, svrg2_err_r, svrg2_robj_r, svrg2_grad_norm_r, svrg2_time_r = optimize_diag(100, n, x_train_r, y_train_r, stepsize, x_min_r, f_min_r)"
   ]
  },
  {
   "cell_type": "markdown",
   "metadata": {},
   "source": [
    "## CURVATURE MATCHING\n"
   ]
  },
  {
   "cell_type": "code",
   "execution_count": 58,
   "metadata": {
    "collapsed": true
   },
   "outputs": [],
   "source": [
    "def generate_S(dt_history, itr2):\n",
    "    k = 10\n",
    "    T = itr2\n",
    "    def average_d_i(dt_history, i):\n",
    "        s = np.sum([dt_history[j] for j in range((T // k) * i, (T // k) * (i + 1) - 1)], axis=0)\n",
    "        return (k / T) * s\n",
    "    S = np.array([average_d_i(dt_history, i) for i in range(k)])\n",
    "    return S.T\n",
    "\n",
    "def optimize_cm(itr1, itr2, x_train, y_train, stepsize, theta_min=[], f_min=[], verbose=True, random=False):\n",
    "    \"\"\"\"Curvature Matching algorithm.\n",
    "\n",
    "    Output\n",
    "    ----------\n",
    "    theta_bar : np.ndarray, shape=(d,)\n",
    "                The final x vector found by the algorithm   \n",
    "        \n",
    "    errors: list\n",
    "            Sequence of errors || x - x_min || of the algorithm\n",
    "            \n",
    "    relative_objectives: list\n",
    "            Sequence of relative suboptimality gap [f(x) - f(x_min)] / [f(x_0) - f(x_min)] of the algorithm\n",
    "            \n",
    "    grad_norm: list\n",
    "             Sequence of gradient norms calculated during the iterations of the algorithm\n",
    "    \n",
    "    timing: list\n",
    "             Sequence of time taken during the iterations of the algorithm\n",
    "    \n",
    "    \"\"\"  \n",
    "    \n",
    "    # Initialization\n",
    "    n,d = x_train.shape\n",
    "    theta_init = np.zeros(d)\n",
    "    theta_bar = theta_init.copy()\n",
    "    \n",
    "    # History \n",
    "    grad_norm = []\n",
    "    errors = [] \n",
    "    relative_objectives = []\n",
    "    t0 = time.time()\n",
    "    timing = []\n",
    "    dt_history = []\n",
    "\n",
    "    grad_norm.append(np.linalg.norm(model.grad(theta_bar)))\n",
    "    err = norm(theta_bar - theta_min) #/ norm(theta_min) #\n",
    "    errors.append(err)\n",
    "    obj = model.loss(theta_bar) - f_min\n",
    "    relative = model.loss(theta_init) - f_min    \n",
    "    relative_objectives.append(obj / relative)\n",
    "    tim = time.time() - t0\n",
    "    timing.append(tim)\n",
    "\n",
    "    \n",
    "    # Algorithm  \n",
    "    for k in range(1, itr1+1):\n",
    "        \n",
    "        if random:        \n",
    "            S = np.random.randn(d, 10)\n",
    "        else:\n",
    "            S = generate_S(dt_history, itr2)\n",
    "            \n",
    "        grad_k =  model.grad(theta_bar)\n",
    "        A = np.dot(model.hess(theta_bar), S)\n",
    "        C = scipy.linalg.pinv(np.dot(S.T, A))\n",
    "        S_bar = np.dot(S, C)\n",
    "        A_bar = np.dot(A, C)\n",
    "        theta = theta_bar.copy()\n",
    "        \n",
    "        for t in range(itr2):   \n",
    "            \n",
    "            i = np.random.randint(0, n)\n",
    "            A1 = np.dot(np.dot(np.dot(np.dot(A_bar.dot(S_bar.T), model.hess_i(i, theta_bar)), S_bar), A_bar.T), theta - theta_bar)\n",
    "            A2 = np.dot(np.dot(A_bar, A_bar.T), theta - theta_bar)\n",
    "            dt = model.grad_i(i, theta) - model.grad_i(i, theta_bar) + grad_k - A1 + A2\n",
    "            dt_history.append(dt)\n",
    "            theta = theta - stepsize * dt\n",
    "            \n",
    "        theta_bar = theta\n",
    "        \n",
    "        obj = model.loss(theta_bar) - f_min\n",
    "        robj = obj/relative\n",
    "        err = norm(theta_bar - theta_min) \n",
    "        errors.append(err)\n",
    "        relative_objectives.append(robj)\n",
    "        grad_norm.append(np.linalg.norm(model.grad(theta_bar)))\n",
    "        tim = time.time() - t0\n",
    "        timing.append(tim)\n",
    "        \n",
    "        \n",
    "        if verbose:\n",
    "            if k == 1:\n",
    "                print(\"Lauching SVRG solver...\")\n",
    "                print(' | '.join([name.center(10) for name in [\"it\", \"err\", \"subopt_gap\", \"time\"]]))\n",
    "            if (k % 10) == 0:\n",
    "                print(' | '.join([(\"%d\" % k).rjust(10), (\"%.2e\" % err).rjust(10), (\"%.2e\" % robj).rjust(10), (\"%.4e\" % tim).rjust(10)]))\n",
    "            \n",
    "            \n",
    "    return theta_bar, np.array(errors), np.array(relative_objectives), grad_norm, np.array(timing)"
   ]
  },
  {
   "cell_type": "markdown",
   "metadata": {},
   "source": [
    "### Test "
   ]
  },
  {
   "cell_type": "code",
   "execution_count": 62,
   "metadata": {},
   "outputs": [
    {
     "name": "stdout",
     "output_type": "stream",
     "text": [
      "\u001b[1m CM - Classification (Gisette Dataset): \u001b[0m\n",
      "Lauching SVRG solver...\n",
      "    it     |    err     | subopt_gap |    time   \n",
      "        10 |   8.33e-02 |   3.92e-02 | 1.0080e+02\n"
     ]
    }
   ],
   "source": [
    "print(\"\\033[1m CM - Classification (Gisette Dataset): \\033[0m\")\n",
    "\n",
    "n = x_train_c.shape[0]\n",
    "lbda = np.max(np.sum(x_train_c ** 2, axis=1))  / (4. * n)\n",
    "\n",
    "model = Classification(x_train_c, y_train_c, lbda)\n",
    "max_squared_sum = np.max(np.sum(x_train_c ** 2, axis=1)) \n",
    "stepsize = 2**8 / (max_squared_sum + lbda) # 2^4 ou 2^5 <= à voir\n",
    "\n",
    "svrg2_theta_c, svrg2_err_c, svrg2_robj_c, svrg2_grad_norm_c, svrg2_time_c = optimize_cm(10, n, x_train_c, y_train_c, stepsize, x_min_c, f_min_c, random=True)"
   ]
  },
  {
   "cell_type": "code",
   "execution_count": 70,
   "metadata": {},
   "outputs": [
    {
     "name": "stdout",
     "output_type": "stream",
     "text": [
      "\u001b[1m CM - Regression (Cadata Dataset): \u001b[0m\n",
      "Lauching SVRG solver...\n",
      "    it     |    err     | subopt_gap |    time   \n",
      "        10 |   9.62e-01 |   1.00e+00 | 6.9860e+00\n",
      "        20 |   9.62e-01 |   1.00e+00 | 1.3924e+01\n",
      "        30 |   9.62e-01 |   1.00e+00 | 2.0906e+01\n",
      "        40 |   9.62e-01 |   1.00e+00 | 2.7822e+01\n",
      "        50 |   9.62e-01 |   1.00e+00 | 3.4741e+01\n",
      "        60 |   9.62e-01 |   1.00e+00 | 4.1701e+01\n",
      "        70 |   9.62e-01 |   1.00e+00 | 4.8694e+01\n",
      "        80 |   9.62e-01 |   1.00e+00 | 5.5872e+01\n",
      "        90 |   9.62e-01 |   1.00e+00 | 6.5014e+01\n",
      "       100 |   9.62e-01 |   1.00e+00 | 7.2754e+01\n"
     ]
    }
   ],
   "source": [
    "# When the stepsize is too important, we encounter an overflow\n",
    "\n",
    "print(\"\\033[1m CM - Regression (Cadata Dataset): \\033[0m\")\n",
    "\n",
    "n = x_train_r.shape[0]\n",
    "lbda = np.max(np.sum(x_train_r ** 2, axis=1)) / 4 * n\n",
    "\n",
    "model = Regression(x_train_r, y_train_r, lbda)\n",
    "max_squared_sum = np.max(np.sum(x_train_r ** 2, axis=1)) \n",
    "stepsize = 2**1 / (max_squared_sum + lbda) # 2^4 ou 2^5 <= à voir\n",
    "\n",
    "svrg2_theta_r, svrg2_err_r, svrg2_robj_r, svrg2_grad_norm_r, svrg2_time_r = optimize_cm(100, n, x_train_r, y_train_r, stepsize, x_min_r, f_min_r, random=True)"
   ]
  },
  {
   "cell_type": "markdown",
   "metadata": {},
   "source": [
    "## ACTION MATCHING "
   ]
  },
  {
   "cell_type": "code",
   "execution_count": 81,
   "metadata": {},
   "outputs": [],
   "source": [
    "def generate_S(dt_history, itr2):\n",
    "    k = 10\n",
    "    T = itr2\n",
    "    def average_d_i(dt_history, i):\n",
    "        s = np.sum([dt_history[j] for j in range((T // k) * i, (T // k) * (i + 1) - 1)], axis=0)\n",
    "        return (k / T) * s\n",
    "    S = np.array([average_d_i(dt_history, i) for i in range(k)])\n",
    "    return S.T\n",
    "\n",
    "def optimize_am(itr1, itr2, x_train, y_train, stepsize, theta_min=[], f_min=[], verbose=True, random=False):\n",
    "    \"\"\"\"Action Matching algorithm.\n",
    "\n",
    "    Output\n",
    "    ----------\n",
    "    theta_bar : np.ndarray, shape=(d,)\n",
    "                The final x vector found by the algorithm   \n",
    "        \n",
    "    errors: list\n",
    "            Sequence of errors || x - x_min || of the algorithm\n",
    "            \n",
    "    relative_objectives: list\n",
    "            Sequence of relative suboptimality gap [f(x) - f(x_min)] / [f(x_0) - f(x_min)] of the algorithm\n",
    "            \n",
    "    grad_norm: list\n",
    "             Sequence of gradient norms calculated during the iterations of the algorithm\n",
    "    \n",
    "    timing: list\n",
    "             Sequence of time taken during the iterations of the algorithm\n",
    "    \n",
    "    \"\"\"  \n",
    "    \n",
    "    # Initialization\n",
    "    n,d = x_train.shape\n",
    "    theta_init = np.zeros(d)\n",
    "    theta_bar = theta_init.copy()\n",
    "    \n",
    "    # History \n",
    "    grad_norm = []\n",
    "    errors = [] \n",
    "    relative_objectives = []\n",
    "    t0 = time.time()\n",
    "    timing = []\n",
    "    dt_history = []\n",
    "    S = np.zeros((d, 10))\n",
    "\n",
    "    grad_norm.append(np.linalg.norm(model.grad(theta_bar)))\n",
    "    err = norm(theta_bar - theta_min) #/ norm(theta_min) #\n",
    "    errors.append(err)\n",
    "    obj = model.loss(theta_bar) - f_min\n",
    "    relative = model.loss(theta_init) - f_min    \n",
    "    relative_objectives.append(obj / relative)\n",
    "    tim = time.time() - t0\n",
    "    timing.append(tim)\n",
    "\n",
    "    \n",
    "    # Algorithm  \n",
    "    for k in range(1, itr1+1):\n",
    "        \n",
    "        if random:        \n",
    "            S = np.random.randn(d, 10)\n",
    "        else:\n",
    "            S = generate_S(dt_history, itr2)\n",
    "    \n",
    "        grad_k =  model.grad(theta_bar)\n",
    "        A = np.dot(model.hess(theta_bar), S)\n",
    "        C = scipy.linalg.pinv(np.dot(S.T, A))\n",
    "        S_bar = np.dot(S, C)\n",
    "        A_bar = np.dot(A, C)\n",
    "        theta = theta_bar.copy()\n",
    "        \n",
    "        for t in range(itr2):   \n",
    "            \n",
    "            i = np.random.randint(0, n)\n",
    "            A1 = np.dot(A_bar.dot(S_bar.T), model.hess_i(i, theta_bar))\n",
    "            A2 = np.eye(d, d) - np.dot(S_bar, A_bar.T)\n",
    "            A3 = np.dot(np.dot(model.hess_i(i, theta_bar), S_bar), A_bar.T)  \n",
    "            A4 = np.dot(A_bar, A_bar.T)\n",
    "            A5 = theta - theta_bar\n",
    "            dt = model.grad_i(i, theta) - model.grad_i(i, theta_bar) + grad_k - np.dot(np.dot(A1, A2) + A3, A5) \n",
    "            + np.dot(A4, A5)\n",
    "            dt_history.append(dt)\n",
    "            theta = theta - stepsize * dt\n",
    "            \n",
    "        theta_bar = theta\n",
    "        \n",
    "        obj = model.loss(theta_bar) - f_min\n",
    "        robj = obj/relative\n",
    "        err = norm(theta_bar - theta_min) \n",
    "        errors.append(err)\n",
    "        relative_objectives.append(robj)\n",
    "        grad_norm.append(np.linalg.norm(model.grad(theta_bar)))\n",
    "        tim = time.time() - t0\n",
    "        timing.append(tim)\n",
    "        \n",
    "        \n",
    "        if verbose:\n",
    "            if k == 1:\n",
    "                print(\"Lauching SVRG solver...\")\n",
    "                print(' | '.join([name.center(10) for name in [\"it\", \"err\", \"subopt_gap\", \"time\"]]))\n",
    "            if (k % 2) == 0:\n",
    "                print(' | '.join([(\"%d\" % k).rjust(10), (\"%.2e\" % err).rjust(10), (\"%.2e\" % robj).rjust(10), (\"%.4e\" % tim).rjust(10)]))\n",
    "            \n",
    "            \n",
    "    return theta_bar, np.array(errors), np.array(relative_objectives), grad_norm, np.array(timing)"
   ]
  },
  {
   "cell_type": "markdown",
   "metadata": {},
   "source": [
    "### TEST"
   ]
  },
  {
   "cell_type": "code",
   "execution_count": 82,
   "metadata": {},
   "outputs": [
    {
     "name": "stdout",
     "output_type": "stream",
     "text": [
      "\u001b[1m AM - Classification (Gisette Dataset): \u001b[0m\n",
      "Lauching SVRG solver...\n",
      "    it     |    err     | subopt_gap |    time   \n",
      "         2 |   2.31e-02 |   2.82e-03 | 4.2469e+01\n",
      "         4 |   1.39e-03 |   1.15e-05 | 8.0604e+01\n"
     ]
    },
    {
     "ename": "KeyboardInterrupt",
     "evalue": "",
     "output_type": "error",
     "traceback": [
      "\u001b[0;31m---------------------------------------------------------------------------\u001b[0m",
      "\u001b[0;31mKeyboardInterrupt\u001b[0m                         Traceback (most recent call last)",
      "\u001b[0;32m<ipython-input-82-3a385bb558e5>\u001b[0m in \u001b[0;36m<module>\u001b[0;34m()\u001b[0m\n\u001b[1;32m      8\u001b[0m \u001b[0mstepsize\u001b[0m \u001b[0;34m=\u001b[0m \u001b[0;36m2\u001b[0m\u001b[0;34m**\u001b[0m\u001b[0;36m4\u001b[0m \u001b[0;34m/\u001b[0m \u001b[0;34m(\u001b[0m\u001b[0mmax_squared_sum\u001b[0m \u001b[0;34m+\u001b[0m \u001b[0mlbda\u001b[0m\u001b[0;34m)\u001b[0m\u001b[0;34m\u001b[0m\u001b[0m\n\u001b[1;32m      9\u001b[0m \u001b[0;34m\u001b[0m\u001b[0m\n\u001b[0;32m---> 10\u001b[0;31m \u001b[0msvrg2_theta_c\u001b[0m\u001b[0;34m,\u001b[0m \u001b[0msvrg2_err_c\u001b[0m\u001b[0;34m,\u001b[0m \u001b[0msvrg2_robj_c\u001b[0m\u001b[0;34m,\u001b[0m \u001b[0msvrg2_grad_norm_c\u001b[0m\u001b[0;34m,\u001b[0m \u001b[0msvrg2_time_c\u001b[0m \u001b[0;34m=\u001b[0m \u001b[0moptimize_am\u001b[0m\u001b[0;34m(\u001b[0m\u001b[0;36m100\u001b[0m\u001b[0;34m,\u001b[0m \u001b[0mn\u001b[0m\u001b[0;34m,\u001b[0m \u001b[0mx_train_c\u001b[0m\u001b[0;34m,\u001b[0m \u001b[0my_train_c\u001b[0m\u001b[0;34m,\u001b[0m \u001b[0mstepsize\u001b[0m\u001b[0;34m,\u001b[0m \u001b[0mx_min_c\u001b[0m\u001b[0;34m,\u001b[0m \u001b[0mf_min_c\u001b[0m\u001b[0;34m,\u001b[0m \u001b[0mrandom\u001b[0m\u001b[0;34m=\u001b[0m\u001b[0;32mTrue\u001b[0m\u001b[0;34m)\u001b[0m\u001b[0;34m\u001b[0m\u001b[0m\n\u001b[0m",
      "\u001b[0;32m<ipython-input-81-c91144d9e8f6>\u001b[0m in \u001b[0;36moptimize_am\u001b[0;34m(itr1, itr2, x_train, y_train, stepsize, theta_min, f_min, verbose, random)\u001b[0m\n\u001b[1;32m     73\u001b[0m             \u001b[0mi\u001b[0m \u001b[0;34m=\u001b[0m \u001b[0mnp\u001b[0m\u001b[0;34m.\u001b[0m\u001b[0mrandom\u001b[0m\u001b[0;34m.\u001b[0m\u001b[0mrandint\u001b[0m\u001b[0;34m(\u001b[0m\u001b[0;36m0\u001b[0m\u001b[0;34m,\u001b[0m \u001b[0mn\u001b[0m\u001b[0;34m)\u001b[0m\u001b[0;34m\u001b[0m\u001b[0m\n\u001b[1;32m     74\u001b[0m             \u001b[0mA1\u001b[0m \u001b[0;34m=\u001b[0m \u001b[0mnp\u001b[0m\u001b[0;34m.\u001b[0m\u001b[0mdot\u001b[0m\u001b[0;34m(\u001b[0m\u001b[0mA_bar\u001b[0m\u001b[0;34m.\u001b[0m\u001b[0mdot\u001b[0m\u001b[0;34m(\u001b[0m\u001b[0mS_bar\u001b[0m\u001b[0;34m.\u001b[0m\u001b[0mT\u001b[0m\u001b[0;34m)\u001b[0m\u001b[0;34m,\u001b[0m \u001b[0mmodel\u001b[0m\u001b[0;34m.\u001b[0m\u001b[0mhess_i\u001b[0m\u001b[0;34m(\u001b[0m\u001b[0mi\u001b[0m\u001b[0;34m,\u001b[0m \u001b[0mtheta_bar\u001b[0m\u001b[0;34m)\u001b[0m\u001b[0;34m)\u001b[0m\u001b[0;34m\u001b[0m\u001b[0m\n\u001b[0;32m---> 75\u001b[0;31m             \u001b[0mA2\u001b[0m \u001b[0;34m=\u001b[0m \u001b[0mnp\u001b[0m\u001b[0;34m.\u001b[0m\u001b[0meye\u001b[0m\u001b[0;34m(\u001b[0m\u001b[0md\u001b[0m\u001b[0;34m,\u001b[0m \u001b[0md\u001b[0m\u001b[0;34m)\u001b[0m \u001b[0;34m-\u001b[0m \u001b[0mnp\u001b[0m\u001b[0;34m.\u001b[0m\u001b[0mdot\u001b[0m\u001b[0;34m(\u001b[0m\u001b[0mS_bar\u001b[0m\u001b[0;34m,\u001b[0m \u001b[0mA_bar\u001b[0m\u001b[0;34m.\u001b[0m\u001b[0mT\u001b[0m\u001b[0;34m)\u001b[0m\u001b[0;34m\u001b[0m\u001b[0m\n\u001b[0m\u001b[1;32m     76\u001b[0m             \u001b[0mA3\u001b[0m \u001b[0;34m=\u001b[0m \u001b[0mnp\u001b[0m\u001b[0;34m.\u001b[0m\u001b[0mdot\u001b[0m\u001b[0;34m(\u001b[0m\u001b[0mnp\u001b[0m\u001b[0;34m.\u001b[0m\u001b[0mdot\u001b[0m\u001b[0;34m(\u001b[0m\u001b[0mmodel\u001b[0m\u001b[0;34m.\u001b[0m\u001b[0mhess_i\u001b[0m\u001b[0;34m(\u001b[0m\u001b[0mi\u001b[0m\u001b[0;34m,\u001b[0m \u001b[0mtheta_bar\u001b[0m\u001b[0;34m)\u001b[0m\u001b[0;34m,\u001b[0m \u001b[0mS_bar\u001b[0m\u001b[0;34m)\u001b[0m\u001b[0;34m,\u001b[0m \u001b[0mA_bar\u001b[0m\u001b[0;34m.\u001b[0m\u001b[0mT\u001b[0m\u001b[0;34m)\u001b[0m\u001b[0;34m\u001b[0m\u001b[0m\n\u001b[1;32m     77\u001b[0m             \u001b[0mA4\u001b[0m \u001b[0;34m=\u001b[0m \u001b[0mnp\u001b[0m\u001b[0;34m.\u001b[0m\u001b[0mdot\u001b[0m\u001b[0;34m(\u001b[0m\u001b[0mA_bar\u001b[0m\u001b[0;34m,\u001b[0m \u001b[0mA_bar\u001b[0m\u001b[0;34m.\u001b[0m\u001b[0mT\u001b[0m\u001b[0;34m)\u001b[0m\u001b[0;34m\u001b[0m\u001b[0m\n",
      "\u001b[0;32m~/anaconda3/lib/python3.6/site-packages/numpy/lib/twodim_base.py\u001b[0m in \u001b[0;36meye\u001b[0;34m(N, M, k, dtype, order)\u001b[0m\n\u001b[1;32m    184\u001b[0m     \u001b[0;32mif\u001b[0m \u001b[0mM\u001b[0m \u001b[0;32mis\u001b[0m \u001b[0;32mNone\u001b[0m\u001b[0;34m:\u001b[0m\u001b[0;34m\u001b[0m\u001b[0m\n\u001b[1;32m    185\u001b[0m         \u001b[0mM\u001b[0m \u001b[0;34m=\u001b[0m \u001b[0mN\u001b[0m\u001b[0;34m\u001b[0m\u001b[0m\n\u001b[0;32m--> 186\u001b[0;31m     \u001b[0mm\u001b[0m \u001b[0;34m=\u001b[0m \u001b[0mzeros\u001b[0m\u001b[0;34m(\u001b[0m\u001b[0;34m(\u001b[0m\u001b[0mN\u001b[0m\u001b[0;34m,\u001b[0m \u001b[0mM\u001b[0m\u001b[0;34m)\u001b[0m\u001b[0;34m,\u001b[0m \u001b[0mdtype\u001b[0m\u001b[0;34m=\u001b[0m\u001b[0mdtype\u001b[0m\u001b[0;34m,\u001b[0m \u001b[0morder\u001b[0m\u001b[0;34m=\u001b[0m\u001b[0morder\u001b[0m\u001b[0;34m)\u001b[0m\u001b[0;34m\u001b[0m\u001b[0m\n\u001b[0m\u001b[1;32m    187\u001b[0m     \u001b[0;32mif\u001b[0m \u001b[0mk\u001b[0m \u001b[0;34m>=\u001b[0m \u001b[0mM\u001b[0m\u001b[0;34m:\u001b[0m\u001b[0;34m\u001b[0m\u001b[0m\n\u001b[1;32m    188\u001b[0m         \u001b[0;32mreturn\u001b[0m \u001b[0mm\u001b[0m\u001b[0;34m\u001b[0m\u001b[0m\n",
      "\u001b[0;31mKeyboardInterrupt\u001b[0m: "
     ]
    }
   ],
   "source": [
    "print(\"\\033[1m AM - Classification (Gisette Dataset): \\033[0m\")\n",
    "\n",
    "n = x_train_c.shape[0]\n",
    "lbda = np.max(np.sum(x_train_c ** 2, axis=1))  / (4. * n)\n",
    "\n",
    "model = Classification(x_train_c, y_train_c, lbda)\n",
    "max_squared_sum = np.max(np.sum(x_train_c ** 2, axis=1)) \n",
    "stepsize = 2**4 / (max_squared_sum + lbda) \n",
    "\n",
    "svrg2_theta_c, svrg2_err_c, svrg2_robj_c, svrg2_grad_norm_c, svrg2_time_c = optimize_am(100, n, x_train_c, y_train_c, stepsize, x_min_c, f_min_c, random=True)"
   ]
  },
  {
   "cell_type": "code",
   "execution_count": 86,
   "metadata": {},
   "outputs": [
    {
     "name": "stdout",
     "output_type": "stream",
     "text": [
      "\u001b[1m AM - Regression (Cadata Dataset): \u001b[0m\n",
      "Lauching SVRG solver...\n",
      "    it     |    err     | subopt_gap |    time   \n",
      "         2 |   9.62e-01 |   1.00e+00 | 1.9828e+00\n",
      "         4 |   9.62e-01 |   1.00e+00 | 3.9094e+00\n",
      "         6 |   9.62e-01 |   1.00e+00 | 5.8289e+00\n",
      "         8 |   9.62e-01 |   1.00e+00 | 7.7355e+00\n",
      "        10 |   9.62e-01 |   1.00e+00 | 9.6358e+00\n",
      "        12 |   9.62e-01 |   1.00e+00 | 1.1597e+01\n",
      "        14 |   9.62e-01 |   1.00e+00 | 1.3490e+01\n",
      "        16 |   9.62e-01 |   1.00e+00 | 1.5421e+01\n",
      "        18 |   9.62e-01 |   1.00e+00 | 1.7350e+01\n",
      "        20 |   9.62e-01 |   1.00e+00 | 1.9280e+01\n",
      "        22 |   9.62e-01 |   1.00e+00 | 2.1310e+01\n",
      "        24 |   9.62e-01 |   1.00e+00 | 2.3337e+01\n",
      "        26 |   9.62e-01 |   1.00e+00 | 2.5393e+01\n",
      "        28 |   9.62e-01 |   1.00e+00 | 2.7445e+01\n",
      "        30 |   9.62e-01 |   1.00e+00 | 2.9566e+01\n"
     ]
    },
    {
     "ename": "KeyboardInterrupt",
     "evalue": "",
     "output_type": "error",
     "traceback": [
      "\u001b[0;31m---------------------------------------------------------------------------\u001b[0m",
      "\u001b[0;31mKeyboardInterrupt\u001b[0m                         Traceback (most recent call last)",
      "\u001b[0;32m<ipython-input-86-489a2fa79c94>\u001b[0m in \u001b[0;36m<module>\u001b[0;34m()\u001b[0m\n\u001b[1;32m     10\u001b[0m \u001b[0mstepsize\u001b[0m \u001b[0;34m=\u001b[0m \u001b[0;36m2\u001b[0m\u001b[0;34m**\u001b[0m\u001b[0;36m1\u001b[0m \u001b[0;34m/\u001b[0m \u001b[0;34m(\u001b[0m\u001b[0mmax_squared_sum\u001b[0m \u001b[0;34m+\u001b[0m \u001b[0mlbda\u001b[0m\u001b[0;34m)\u001b[0m \u001b[0;31m# 2^4 ou 2^5 <= à voir\u001b[0m\u001b[0;34m\u001b[0m\u001b[0m\n\u001b[1;32m     11\u001b[0m \u001b[0;34m\u001b[0m\u001b[0m\n\u001b[0;32m---> 12\u001b[0;31m \u001b[0msvrg2_theta_r\u001b[0m\u001b[0;34m,\u001b[0m \u001b[0msvrg2_err_r\u001b[0m\u001b[0;34m,\u001b[0m \u001b[0msvrg2_robj_r\u001b[0m\u001b[0;34m,\u001b[0m \u001b[0msvrg2_grad_norm_r\u001b[0m\u001b[0;34m,\u001b[0m \u001b[0msvrg2_time_r\u001b[0m \u001b[0;34m=\u001b[0m \u001b[0moptimize_am\u001b[0m\u001b[0;34m(\u001b[0m\u001b[0;36m100\u001b[0m\u001b[0;34m,\u001b[0m \u001b[0mn\u001b[0m\u001b[0;34m,\u001b[0m \u001b[0mx_train_r\u001b[0m\u001b[0;34m,\u001b[0m \u001b[0my_train_r\u001b[0m\u001b[0;34m,\u001b[0m \u001b[0mstepsize\u001b[0m\u001b[0;34m,\u001b[0m \u001b[0mx_min_r\u001b[0m\u001b[0;34m,\u001b[0m \u001b[0mf_min_r\u001b[0m\u001b[0;34m,\u001b[0m \u001b[0mrandom\u001b[0m\u001b[0;34m=\u001b[0m\u001b[0;32mTrue\u001b[0m\u001b[0;34m)\u001b[0m\u001b[0;34m\u001b[0m\u001b[0m\n\u001b[0m",
      "\u001b[0;32m<ipython-input-81-c91144d9e8f6>\u001b[0m in \u001b[0;36moptimize_am\u001b[0;34m(itr1, itr2, x_train, y_train, stepsize, theta_min, f_min, verbose, random)\u001b[0m\n\u001b[1;32m     74\u001b[0m             \u001b[0mA1\u001b[0m \u001b[0;34m=\u001b[0m \u001b[0mnp\u001b[0m\u001b[0;34m.\u001b[0m\u001b[0mdot\u001b[0m\u001b[0;34m(\u001b[0m\u001b[0mA_bar\u001b[0m\u001b[0;34m.\u001b[0m\u001b[0mdot\u001b[0m\u001b[0;34m(\u001b[0m\u001b[0mS_bar\u001b[0m\u001b[0;34m.\u001b[0m\u001b[0mT\u001b[0m\u001b[0;34m)\u001b[0m\u001b[0;34m,\u001b[0m \u001b[0mmodel\u001b[0m\u001b[0;34m.\u001b[0m\u001b[0mhess_i\u001b[0m\u001b[0;34m(\u001b[0m\u001b[0mi\u001b[0m\u001b[0;34m,\u001b[0m \u001b[0mtheta_bar\u001b[0m\u001b[0;34m)\u001b[0m\u001b[0;34m)\u001b[0m\u001b[0;34m\u001b[0m\u001b[0m\n\u001b[1;32m     75\u001b[0m             \u001b[0mA2\u001b[0m \u001b[0;34m=\u001b[0m \u001b[0mnp\u001b[0m\u001b[0;34m.\u001b[0m\u001b[0meye\u001b[0m\u001b[0;34m(\u001b[0m\u001b[0md\u001b[0m\u001b[0;34m,\u001b[0m \u001b[0md\u001b[0m\u001b[0;34m)\u001b[0m \u001b[0;34m-\u001b[0m \u001b[0mnp\u001b[0m\u001b[0;34m.\u001b[0m\u001b[0mdot\u001b[0m\u001b[0;34m(\u001b[0m\u001b[0mS_bar\u001b[0m\u001b[0;34m,\u001b[0m \u001b[0mA_bar\u001b[0m\u001b[0;34m.\u001b[0m\u001b[0mT\u001b[0m\u001b[0;34m)\u001b[0m\u001b[0;34m\u001b[0m\u001b[0m\n\u001b[0;32m---> 76\u001b[0;31m             \u001b[0mA3\u001b[0m \u001b[0;34m=\u001b[0m \u001b[0mnp\u001b[0m\u001b[0;34m.\u001b[0m\u001b[0mdot\u001b[0m\u001b[0;34m(\u001b[0m\u001b[0mnp\u001b[0m\u001b[0;34m.\u001b[0m\u001b[0mdot\u001b[0m\u001b[0;34m(\u001b[0m\u001b[0mmodel\u001b[0m\u001b[0;34m.\u001b[0m\u001b[0mhess_i\u001b[0m\u001b[0;34m(\u001b[0m\u001b[0mi\u001b[0m\u001b[0;34m,\u001b[0m \u001b[0mtheta_bar\u001b[0m\u001b[0;34m)\u001b[0m\u001b[0;34m,\u001b[0m \u001b[0mS_bar\u001b[0m\u001b[0;34m)\u001b[0m\u001b[0;34m,\u001b[0m \u001b[0mA_bar\u001b[0m\u001b[0;34m.\u001b[0m\u001b[0mT\u001b[0m\u001b[0;34m)\u001b[0m\u001b[0;34m\u001b[0m\u001b[0m\n\u001b[0m\u001b[1;32m     77\u001b[0m             \u001b[0mA4\u001b[0m \u001b[0;34m=\u001b[0m \u001b[0mnp\u001b[0m\u001b[0;34m.\u001b[0m\u001b[0mdot\u001b[0m\u001b[0;34m(\u001b[0m\u001b[0mA_bar\u001b[0m\u001b[0;34m,\u001b[0m \u001b[0mA_bar\u001b[0m\u001b[0;34m.\u001b[0m\u001b[0mT\u001b[0m\u001b[0;34m)\u001b[0m\u001b[0;34m\u001b[0m\u001b[0m\n\u001b[1;32m     78\u001b[0m             \u001b[0mA5\u001b[0m \u001b[0;34m=\u001b[0m \u001b[0mtheta\u001b[0m \u001b[0;34m-\u001b[0m \u001b[0mtheta_bar\u001b[0m\u001b[0;34m\u001b[0m\u001b[0m\n",
      "\u001b[0;31mKeyboardInterrupt\u001b[0m: "
     ]
    }
   ],
   "source": [
    "# When the stepsize is too important, we encounter an overflow\n",
    "\n",
    "print(\"\\033[1m AM - Regression (Cadata Dataset): \\033[0m\")\n",
    "\n",
    "n = x_train_r.shape[0]\n",
    "lbda = np.max(np.sum(x_train_r ** 2, axis=1)) / 4 * n\n",
    "\n",
    "model = Regression(x_train_r, y_train_r, lbda)\n",
    "max_squared_sum = np.max(np.sum(x_train_r ** 2, axis=1)) \n",
    "stepsize = 2**1 / (max_squared_sum + lbda) # 2^4 ou 2^5 <= à voir\n",
    "\n",
    "svrg2_theta_r, svrg2_err_r, svrg2_robj_r, svrg2_grad_norm_r, svrg2_time_r = optimize_am(100, n, x_train_r, y_train_r, stepsize, x_min_r, f_min_r, random=True)"
   ]
  },
  {
   "cell_type": "markdown",
   "metadata": {},
   "source": [
    "<a id='comp1'></a>\n",
    "## 4. Classification case\n"
   ]
  },
  {
   "cell_type": "markdown",
   "metadata": {},
   "source": [
    "### Graphical comparison"
   ]
  },
  {
   "cell_type": "code",
   "execution_count": 24,
   "metadata": {},
   "outputs": [
    {
     "data": {
      "image/png": "[encoded data removed]",
      "text/plain": [
       "<matplotlib.figure.Figure at 0x19704b600f0>"
      ]
     },
     "metadata": {},
     "output_type": "display_data"
    }
   ],
   "source": [
    "plt.figure(figsize=(20, 15))\n",
    "algo = [\"SVRG\"] \n",
    "\n",
    "plt.subplot(2, 2, 1)\n",
    "#for insp in inspectors:\n",
    "plt.semilogy(svrg_robj_c, lw=3)\n",
    "plt.grid()\n",
    "plt.title(\"Relative Suboptimality Gap\", fontsize=22)\n",
    "plt.xlabel(\"Epoch\", fontsize=14)\n",
    "plt.ylabel(\"Suboptimality gap\", fontsize=14)\n",
    "plt.legend(algo)\n",
    "\n",
    "plt.subplot(2, 2, 2)\n",
    "#for insp in inspectors:\n",
    "plt.plot(svrg_robj_c, svrg_time_c, lw=3)\n",
    "plt.yscale('log')\n",
    "plt.grid()\n",
    "plt.title(\"Relative Suboptimality Gap\", fontsize=22)\n",
    "plt.xlabel(\"Time\", fontsize=14)\n",
    "plt.ylabel(\"Suboptimality gap\", fontsize=14)\n",
    "plt.legend(algo)\n",
    "\n",
    "plt.subplot(2, 2, 3)\n",
    "#for insp in inspectors:\n",
    "plt.semilogy(svrg_err_c, lw=3)\n",
    "plt.grid()\n",
    "plt.title(\"Distance to optimum\", fontsize=22)\n",
    "plt.xlabel(\"Epoch\", fontsize=14)\n",
    "plt.ylabel(\"$\\|x_k - x^*\\|_2$\", fontsize=14)\n",
    "plt.legend(algo)\n",
    "\n",
    "plt.subplot(2, 2, 4)\n",
    "#for insp in inspectors:\n",
    "plt.semilogy(svrg_grad_norm_c, lw=3)\n",
    "plt.grid()\n",
    "plt.title(\"Gradient Norm\", fontsize=22)\n",
    "plt.xlabel(\"Epoch\", fontsize=14)\n",
    "plt.ylabel(\"Gradient Norm\", fontsize=14)\n",
    "plt.legend(algo);"
   ]
  },
  {
   "cell_type": "markdown",
   "metadata": {},
   "source": [
    "### Numerical comparison"
   ]
  },
  {
   "cell_type": "code",
   "execution_count": 39,
   "metadata": {},
   "outputs": [
    {
     "name": "stdout",
     "output_type": "stream",
     "text": [
      "Min of the Loss 3.19e-01\n",
      "Time taken 66.3107640743\n",
      "SVRG loss 9.16e-01\n",
      "SVRG gap 0.00e+00\n"
     ]
    }
   ],
   "source": [
    "n = x_train_c.shape[0]\n",
    "lbda = np.max(np.sum(x_train_c ** 2, axis=1))  / (4. * n)\n",
    "model = Regression(x_train_c, y_train_c, lbda)\n",
    "\n",
    "print(\"Min of the Loss %.2e\" % f_min_c)\n",
    "print(\"Time taken\", svrg_time_c[100])\n",
    "print(\"SVRG loss %.2e\" % model.loss(svrg_theta_c))\n",
    "print(\"SVRG gap %.2e\" % svrg_robj_c[100])"
   ]
  },
  {
   "cell_type": "markdown",
   "metadata": {},
   "source": [
    "\n",
    "** Performance comparison : **\n",
    "\n",
    "| Algorithm     | F_min         | Subopt Gap   | Running time |\n",
    "| ------------- |--------------:| ------------:|-------------:|\n",
    "| L-bfgs        |   3.19e-01    |      0       |      -       |\n",
    "| SVRG          |   9.16e-01    |   0.00e+00   |    66.31     |\n",
    "| SVRG2         | xxxx          |    xxxxx     |    xxxxx     |\n",
    "\n"
   ]
  },
  {
   "cell_type": "markdown",
   "metadata": {},
   "source": [
    "<a id='comp2'></a>\n",
    "## 5. Regression case : comparison\n"
   ]
  },
  {
   "cell_type": "markdown",
   "metadata": {},
   "source": [
    "### Graphical Comparison"
   ]
  },
  {
   "cell_type": "code",
   "execution_count": 25,
   "metadata": {},
   "outputs": [
    {
     "data": {
      "image/png": "[encoded data removed]",
      "text/plain": [
       "<matplotlib.figure.Figure at 0x19703f0f320>"
      ]
     },
     "metadata": {},
     "output_type": "display_data"
    }
   ],
   "source": [
    "plt.figure(figsize=(20, 15))\n",
    "algo = [\"SVRG\"] \n",
    "\n",
    "plt.subplot(2, 2, 1)\n",
    "#for insp in inspectors:\n",
    "plt.semilogy(svrg_robj_r, lw=3)\n",
    "plt.grid()\n",
    "plt.title(\"Relative Suboptimality Gap\", fontsize=22)\n",
    "plt.xlabel(\"Epoch\", fontsize=14)\n",
    "plt.ylabel(\"Suboptimality gap\", fontsize=14)\n",
    "plt.legend(algo)\n",
    "\n",
    "plt.subplot(2, 2, 2)\n",
    "#for insp in inspectors:\n",
    "plt.plot(svrg_robj_r, svrg_time_r, lw=3)\n",
    "plt.yscale('log')\n",
    "plt.grid()\n",
    "plt.title(\"Relative Suboptimality Gap\", fontsize=22)\n",
    "plt.xlabel(\"Time\", fontsize=14)\n",
    "plt.ylabel(\"Suboptimality gap\", fontsize=14)\n",
    "plt.legend(algo)\n",
    "\n",
    "plt.subplot(2, 2, 3)\n",
    "#for insp in inspectors:\n",
    "plt.semilogy(svrg_err_r, lw=3)\n",
    "plt.grid()\n",
    "plt.title(\"Distance to optimum\", fontsize=22)\n",
    "plt.xlabel(\"Epoch\", fontsize=14)\n",
    "plt.ylabel(\"$\\|x_k - x^*\\|_2$\", fontsize=14)\n",
    "plt.legend(algo)\n",
    "\n",
    "plt.subplot(2, 2, 4)\n",
    "#for insp in inspectors:\n",
    "plt.semilogy(svrg_grad_norm_r, lw=3)\n",
    "plt.grid()\n",
    "plt.title(\"Gradient Norm\", fontsize=22)\n",
    "plt.xlabel(\"Epoch\", fontsize=14)\n",
    "plt.ylabel(\"Gradient Norm\", fontsize=14)\n",
    "plt.legend(algo);"
   ]
  },
  {
   "cell_type": "markdown",
   "metadata": {},
   "source": [
    "### Numerical comparison"
   ]
  },
  {
   "cell_type": "code",
   "execution_count": 38,
   "metadata": {},
   "outputs": [
    {
     "name": "stdout",
     "output_type": "stream",
     "text": [
      "Min of the Loss 2.21e-01\n",
      "Time taken 38.8588490486\n",
      "SVRG loss 2.21e-01\n",
      "SVRG gap 9.95e-17\n"
     ]
    }
   ],
   "source": [
    "n = x_train_r.shape[0]\n",
    "lbda = np.max(np.sum(x_train_r ** 2, axis=1)) / n\n",
    "model = Regression(x_train_r, y_train_r, lbda)\n",
    "\n",
    "print(\"Min of the Loss %.2e\" % f_min_r)\n",
    "print(\"Time taken\", svrg_time_r[100])\n",
    "print(\"SVRG loss %.2e\" % model.loss(svrg_theta_r))\n",
    "print(\"SVRG gap %.2e\" % svrg_robj_r[100])"
   ]
  },
  {
   "cell_type": "markdown",
   "metadata": {},
   "source": [
    "\n",
    "** Performance comparison : **\n",
    "\n",
    "| Algorithm     | F_min         | Subopt Gap   | Running time |\n",
    "| ------------- |--------------:| ------------:|-------------:|\n",
    "| L-bfgs        |   2.21e-01    |      0       |      -       |\n",
    "| SVRG          |   2.21e-01    |   9.95e-17   |    38.86     |\n",
    "| SVRG2         | xxxx          |    xxxxx     |    xxxxx     |\n",
    "\n"
   ]
  }
 ],
 "metadata": {
  "kernelspec": {
   "display_name": "Python 3",
   "language": "python",
   "name": "python3"
  },
  "language_info": {
   "codemirror_mode": {
    "name": "ipython",
    "version": 3
   },
   "file_extension": ".py",
   "mimetype": "text/x-python",
   "name": "python",
   "nbconvert_exporter": "python",
   "pygments_lexer": "ipython3",
   "version": "3.6.3"
  }
 },
 "nbformat": 4,
 "nbformat_minor": 2
}
