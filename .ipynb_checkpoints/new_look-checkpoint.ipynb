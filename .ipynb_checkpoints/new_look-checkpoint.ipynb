{
 "cells": [
  {
   "cell_type": "code",
   "execution_count": 4,
   "metadata": {
    "collapsed": true
   },
   "outputs": [],
   "source": [
    "import numpy as np"
   ]
  },
  {
   "cell_type": "code",
   "execution_count": 96,
   "metadata": {
    "scrolled": false
   },
   "outputs": [],
   "source": [
    "def preprocessing_y(filename):\n",
    "    data = []\n",
    "    with open(filename) as file:\n",
    "        for row in file.readlines():\n",
    "            data.append((row.strip()).split(\" \"))\n",
    "    data = np.array(data).astype(int)\n",
    "    return data\n",
    "\n",
    "def preprocessing_x(filename):\n",
    "    data = []\n",
    "    with open(filename) as file:\n",
    "        for row in file.readlines():\n",
    "            data.append((row.strip()).split(\" \"))\n",
    "    data = np.array(data).astype(int)\n",
    "    return data\n",
    "\n",
    "x_train = preprocessing_x(\"gisette_train.data\")\n",
    "y_train = preprocessing_y(\"gisette_train.labels\")\n"
   ]
  },
  {
   "cell_type": "code",
   "execution_count": 1,
   "metadata": {},
   "outputs": [
    {
     "ename": "SyntaxError",
     "evalue": "invalid syntax (<ipython-input-1-c6b9d8bc5b8c>, line 5)",
     "output_type": "error",
     "traceback": [
      "\u001b[0;36m  File \u001b[0;32m\"<ipython-input-1-c6b9d8bc5b8c>\"\u001b[0;36m, line \u001b[0;32m5\u001b[0m\n\u001b[0;31m    def svrg(itr1,, itr2, stepsize, dim):\u001b[0m\n\u001b[0m                  ^\u001b[0m\n\u001b[0;31mSyntaxError\u001b[0m\u001b[0;31m:\u001b[0m invalid syntax\n"
     ]
    }
   ],
   "source": [
    "\n",
    "## SVRG\n",
    "\n",
    "def svrg(itr1,, itr2, stepsize, dim):\n",
    "    theta_0 = np.random.randn()\n",
    "    for k in range(itr1):\n",
    "        g = np.mean()\n",
    "        for t in range(itr2):\n",
    "            pass\n",
    "        return None\n",
    "\n",
    "## SVRG2\n",
    "\n",
    "def svrg2(itr1,, itr2, stepsize, dim):\n",
    "    return None\n",
    "\n",
    "## CURVATURE MATCHING\n",
    "\n",
    "def curvature_matching(f, stepsize):\n",
    "    return None\n",
    "\n",
    "## ACTION MATCHING\n",
    "\n",
    "def action_matching(f, stepsize):\n",
    "    return None"
   ]
  },
  {
   "cell_type": "code",
   "execution_count": null,
   "metadata": {
    "collapsed": true
   },
   "outputs": [],
   "source": []
  }
 ],
 "metadata": {
  "kernelspec": {
   "display_name": "Python 3",
   "language": "python",
   "name": "python3"
  },
  "language_info": {
   "codemirror_mode": {
    "name": "ipython",
    "version": 3
   },
   "file_extension": ".py",
   "mimetype": "text/x-python",
   "name": "python",
   "nbconvert_exporter": "python",
   "pygments_lexer": "ipython3",
   "version": "3.6.3"
  }
 },
 "nbformat": 4,
 "nbformat_minor": 2
}
