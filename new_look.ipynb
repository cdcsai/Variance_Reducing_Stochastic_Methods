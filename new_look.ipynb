{
 "cells": [
  {
   "cell_type": "code",
   "execution_count": null,
   "metadata": {
    "collapsed": true
   },
   "outputs": [],
   "source": [
    "import numpy as np\n",
    "\n",
    "## SVRG\n",
    "\n",
    "def svrg(itr1,, itr2, stepsize, dim):\n",
    "    theta_0 = np.random.randn()\n",
    "    for k in range(itr1):\n",
    "        g = np.mean()\n",
    "        for t in range(itr2):\n",
    "            pass\n",
    "        return None\n",
    "\n",
    "## SVRG2\n",
    "\n",
    "def svrg2(itr1,, itr2, stepsize, dim):\n",
    "    return None\n",
    "\n",
    "## CURVATURE MATCHING\n",
    "\n",
    "def curvature_matching(f, stepsize):\n",
    "    return None\n",
    "\n",
    "## ACTION MATCHING\n",
    "\n",
    "def action_matching(f, stepsize):\n",
    "    return None"
   ]
  }
 ],
 "metadata": {
  "kernelspec": {
   "display_name": "Python 3",
   "language": "python",
   "name": "python3"
  },
  "language_info": {
   "codemirror_mode": {
    "name": "ipython",
    "version": 3
   },
   "file_extension": ".py",
   "mimetype": "text/x-python",
   "name": "python",
   "nbconvert_exporter": "python",
   "pygments_lexer": "ipython3",
   "version": "3.6.3"
  }
 },
 "nbformat": 4,
 "nbformat_minor": 2
}
