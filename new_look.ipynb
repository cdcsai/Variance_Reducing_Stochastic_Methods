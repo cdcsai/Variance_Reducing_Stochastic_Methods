{
 "cells": [
  {
   "cell_type": "code",
   "execution_count": 177,
   "metadata": {
    "collapsed": true
   },
   "outputs": [],
   "source": [
    "# Package Imports \n",
    "\n",
    "import numpy as np\n",
    "from tqdm import tqdm\n",
    "from numba import njit"
   ]
  },
  {
   "cell_type": "code",
   "execution_count": 58,
   "metadata": {
    "collapsed": true,
    "scrolled": false
   },
   "outputs": [],
   "source": [
    "# Gisette Dataset Pre-Processing\n",
    "\n",
    "def preprocessing_y(filename):\n",
    "    data = []\n",
    "    with open(filename) as file:\n",
    "        for row in file.readlines():\n",
    "            data.append((row.strip()).split(\" \"))\n",
    "    data = np.array(data).astype(int)\n",
    "    return data.T\n",
    "\n",
    "def preprocessing_x(filename):\n",
    "    data = []\n",
    "    with open(filename) as file:\n",
    "        for row in file.readlines():\n",
    "            data.append((row.strip()).split(\" \"))\n",
    "    data = np.array(data).astype(int)\n",
    "    return data.T\n",
    "\n",
    "# Here the shape of x_train is (5000, 6000) = (dimension, number of examples)\n",
    "\n",
    "x_train = preprocessing_x(\"gisette_train.data\")\n",
    "y_train = preprocessing_y(\"gisette_train.labels\")\n"
   ]
  },
  {
   "cell_type": "code",
   "execution_count": 185,
   "metadata": {
    "collapsed": true
   },
   "outputs": [],
   "source": [
    "# In this section, we define the functions used in the optimization part \n",
    "\n",
    "def sigmoid(z):\n",
    "    return 1 / (1 + np.exp(-z))\n",
    "\n",
    "def activation(w, b, x_i):\n",
    "    return sigmoid(np.dot(w.T, x_i) + b)\n",
    "    \n",
    "def average_grad_log_loss(w, b, X, Y):\n",
    "    N = X.shape[1]\n",
    "    A = sigmoid(np.dot(w.T, X) + b)\n",
    "    cost = (-1 / N) * np.sum(Y * np.log(A) + (1 - Y) * np.log(1 - A))\n",
    "    dw = (1 / N) * np.dot(X, (A - Y).T)\n",
    "    db = (1 / N) * np.sum(A - Y)\n",
    "    return dw, db, cost\n",
    "\n",
    "def grad_wstb(w, b, x_i, y_i):\n",
    "    x_i = np.expand_dims(x_i, axis=1)\n",
    "    a_i = activation(w, b, x_i)\n",
    "    return a_i - y_i\n",
    "\n",
    "def grad_wstw(w, b, x_i, y_i):\n",
    "    x_i = np.expand_dims(x_i, axis=1)\n",
    "    a_i = activation(w, b, x_i)\n",
    "    return x_i * (a_i - y_i)"
   ]
  },
  {
   "cell_type": "code",
   "execution_count": 186,
   "metadata": {
    "collapsed": true
   },
   "outputs": [],
   "source": [
    "\n",
    "## SVRG\n",
    "\n",
    "def optimize_svrg(itr1, itr2, stepsize, x_train, y_train):\n",
    "    N = x_train.shape[1]\n",
    "    d = x_train.shape[0]\n",
    "    w_bar, b_bar = np.zeros((d, 1)), 0\n",
    "    \n",
    "    for k in range(itr1):\n",
    "        dw_bar, db_bar,_ =  average_grad_log_loss(w_bar, b_bar, x_train, y_train)   \n",
    "        w, b = w_bar, b_bar\n",
    "        for t in range(itr2):\n",
    "    \n",
    "            i = np.random.randint(1, N)\n",
    "            w = w - stepsize * (grad_wstw(w, b, x_train.T[i], y_train.T[i]) - \n",
    "                                    grad_wstw(w_bar, b_bar, x_train.T[i], y_train.T[i]) + dw_bar)\n",
    "            b = b - stepsize * (grad_wstb(w, b, x_train.T[i], y_train.T[i]) - \n",
    "                                    grad_wstb(w_bar, b_bar, x_train.T[i], y_train.T[i])+ db_bar)\n",
    "            \n",
    "        w_bar = w\n",
    "        b_bar = b\n",
    "        print(\"cost is \", average_grad_log_loss(w_bar, b_bar, x_train, y_train)[2])\n",
    "        \n",
    "    return w_bar, b_bar\n",
    "\n"
   ]
  },
  {
   "cell_type": "code",
   "execution_count": null,
   "metadata": {
    "collapsed": true
   },
   "outputs": [],
   "source": [
    "## SVRG2\n",
    "\n",
    "def svrg2(itr1,itr2, stepsize, dim):\n",
    "    return None\n",
    "\n",
    "## CURVATURE MATCHING\n",
    "\n",
    "def curvature_matching(f, stepsize):\n",
    "    return None\n",
    "\n",
    "## ACTION MATCHING\n",
    "\n",
    "def action_matching(f, stepsize):\n",
    "    return None"
   ]
  }
 ],
 "metadata": {
  "kernelspec": {
   "display_name": "Python 3",
   "language": "python",
   "name": "python3"
  },
  "language_info": {
   "codemirror_mode": {
    "name": "ipython",
    "version": 3
   },
   "file_extension": ".py",
   "mimetype": "text/x-python",
   "name": "python",
   "nbconvert_exporter": "python",
   "pygments_lexer": "ipython3",
   "version": "3.6.3"
  }
 },
 "nbformat": 4,
 "nbformat_minor": 2
}
