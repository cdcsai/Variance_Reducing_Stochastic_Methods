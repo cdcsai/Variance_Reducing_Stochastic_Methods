{
 "cells": [
  {
   "cell_type": "code",
   "execution_count": 10,
   "metadata": {
    "collapsed": true
   },
   "outputs": [],
   "source": [
    "# Package Imports \n",
    "import numpy as np\n",
    "from tqdm import tqdm"
   ]
  },
  {
   "cell_type": "code",
   "execution_count": 4,
   "metadata": {
    "collapsed": true,
    "scrolled": false
   },
   "outputs": [],
   "source": [
    "# Gisette Dataset Pre-Processing\n",
    "\n",
    "def preprocessing_y(filename):\n",
    "    data = []\n",
    "    with open(filename) as file:\n",
    "        for row in file.readlines():\n",
    "            data.append((row.strip()).split(\" \"))\n",
    "    data = np.array(data).astype(int)\n",
    "    return data\n",
    "\n",
    "def preprocessing_x(filename):\n",
    "    data = []\n",
    "    with open(filename) as file:\n",
    "        for row in file.readlines():\n",
    "            data.append((row.strip()).split(\" \"))\n",
    "    data = np.array(data).astype(int)\n",
    "    return data\n",
    "\n",
    "x_train = preprocessing_x(\"gisette_train.data\")\n",
    "y_train = preprocessing_y(\"gisette_train.labels\")\n"
   ]
  },
  {
   "cell_type": "code",
   "execution_count": 11,
   "metadata": {
    "collapsed": true
   },
   "outputs": [],
   "source": [
    "def logistic_loss(x, y, theta):\n",
    "    y_hat = np.dot(theta.T, x)\n",
    "    return print(\"loss is: \", np.log(1 + np.exp(-y * y_hat)), \"y is: \",y, \"y_hat is: \",y_hat) \n",
    "\n",
    "def gradient_log_loss(x, y, theta):\n",
    "    return y - (1 / 1 + np.exp(-np.dot(theta.T, x)))"
   ]
  },
  {
   "cell_type": "code",
   "execution_count": 13,
   "metadata": {},
   "outputs": [],
   "source": [
    "\n",
    "## SVRG\n",
    "\n",
    "def svrg(itr1, itr2, gamma, dict_):\n",
    "    theta_0 = np.random.randn(x_train.shape[1])\n",
    "    for k in range(itr1):\n",
    "        g = np.mean(dict_[\"functions\"])\n",
    "        theta_0 = theta_+\"k\"\n",
    "        for t in range(itr2):\n",
    "            i = np.random.uniform(1, len(g))\n",
    "            theta_new = theta - stepsize * (g[theta][i] - g[theta_k][i] + g[theta_k])\n",
    "            theta = theta_new\n",
    "        theta_new = theta\n",
    "    return theta\n",
    "\n",
    "## SVRG2\n",
    "\n",
    "def svrg2(itr1,itr2, stepsize, dim):\n",
    "    return None\n",
    "\n",
    "## CURVATURE MATCHING\n",
    "\n",
    "def curvature_matching(f, stepsize):\n",
    "    return None\n",
    "\n",
    "## ACTION MATCHING\n",
    "\n",
    "def action_matching(f, stepsize):\n",
    "    return None"
   ]
  },
  {
   "cell_type": "code",
   "execution_count": null,
   "metadata": {
    "collapsed": true
   },
   "outputs": [],
   "source": []
  }
 ],
 "metadata": {
  "kernelspec": {
   "display_name": "Python 3",
   "language": "python",
   "name": "python3"
  },
  "language_info": {
   "codemirror_mode": {
    "name": "ipython",
    "version": 3
   },
   "file_extension": ".py",
   "mimetype": "text/x-python",
   "name": "python",
   "nbconvert_exporter": "python",
   "pygments_lexer": "ipython3",
   "version": "3.6.3"
  }
 },
 "nbformat": 4,
 "nbformat_minor": 2
}
