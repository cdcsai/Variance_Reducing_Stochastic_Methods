{
 "cells": [
  {
   "cell_type": "markdown",
   "metadata": {},
   "source": [
    "# SOADML - Incremental methods with second order information\n",
    "\n",
    "    Authors : Léa Bresson, Charles Dognin\n",
    "   \n",
    "The aim of this notebook is to implement and compare the algorithms introduced in 2018 by Gower et al. in the paper \"*Tracking the gradients using the Hessian : A new look at variance reducing stochastic methods*\". We discuss the efficiency of the algorithms proposed in this paper by benchmarking it against SVRG on a classification and regression problems. \n",
    "\n",
    "The following methods are compared :\n",
    "- Stochastic Variance Reduced Gradient (SVRG),\n",
    "- SVRG2 that tracks the gradients using the full Hessian,\n",
    "- 2D, CM and AM that track the gradients using different Hessian approximations (Diagonal approximation via robust secant equation, low-rank Curvature Matching approximation, low-rank Action Matching approximation, respectively). \n",
    "\n",
    "\n",
    "First, we consider a logistic regression with ridge penalization using the same dataset as the authors, i.e. the *Gisette* dataset. Then, we consider a least-squares regression with ridge penalization (not implemented by Gower et al.) using the *Cadata* dataset from LIBSVM."
   ]
  },
  {
   "cell_type": "markdown",
   "metadata": {},
   "source": [
    "### Table of content\n",
    "[1. Loss functions and gradients for logistic regression (Gisette dataset)](#dataclassif)<br>\n",
    "[2. Loss functions and gradients for least-squares regression (Cadata dataset)](#dataregr)<br>\n",
    "[3. Algorithms](#algo)<br>\n",
    "[4. Classification case : Numerical comparison](#comp1)<br>\n",
    "[5. Regression case : Numerical comparison](#comp2)<br>\n",
    "[6. Conclusions](#conc)<br>\n",
    "\n",
    "\n"
   ]
  },
  {
   "cell_type": "code",
   "execution_count": 1,
   "metadata": {
    "collapsed": true
   },
   "outputs": [],
   "source": [
    "%matplotlib inline"
   ]
  },
  {
   "cell_type": "code",
   "execution_count": 2,
   "metadata": {
    "collapsed": true
   },
   "outputs": [],
   "source": [
    "# Package Imports \n",
    "\n",
    "import numpy as np\n",
    "from tqdm import tqdm\n",
    "#from numba import njit\n",
    "from scipy.linalg import norm\n",
    "import matplotlib.pyplot as plt\n",
    "from sklearn.preprocessing import StandardScaler\n",
    "from sklearn.datasets import load_svmlight_file\n",
    "from scipy.linalg import svd\n",
    "from numba import njit"
   ]
  },
  {
   "cell_type": "markdown",
   "metadata": {},
   "source": [
    "<a id='dataclassif'></a>\n",
    "## 1. Loss functions and gradients for logistic regression (Gisette dataset)\n",
    "\n",
    "\n",
    "### Gisette Dataset Pre-Processing\n",
    "\n",
    "Gisette is a handwritten digit recognition problem inspired by the MINST dataset. The problem is to separate the highly confusable digits '4' and '9'. This is a binary classification problem. The images are size-normalized in a 28 x 28 window. The dataset contains 5000 features and 6000 samples."
   ]
  },
  {
   "cell_type": "code",
   "execution_count": 101,
   "metadata": {},
   "outputs": [],
   "source": [
    "def preprocessing_y(filename):\n",
    "    data = []\n",
    "    with open(filename) as file:\n",
    "        for row in file.readlines():\n",
    "            data.append((row.strip()).split(\" \"))\n",
    "    data = np.array(data).astype(int)\n",
    "    data = np.squeeze(data, axis=1)\n",
    "    return data\n",
    "\n",
    "def preprocessing_x(filename):\n",
    "    data = []\n",
    "    with open(filename) as file:\n",
    "        for row in file.readlines():\n",
    "            data.append((row.strip()).split(\" \"))\n",
    "    data = np.array(data).astype(int)\n",
    "    return data\n",
    "\n",
    "# Here the shape of x_train is (6000, 5000) = (number of examples, dimension)\n",
    "x_train_c = preprocessing_x(\"gisette_train.data\") \n",
    "y_train_c = preprocessing_y(\"gisette_train.labels\")"
   ]
  },
  {
   "cell_type": "markdown",
   "metadata": {},
   "source": [
    "### Logistic loss with a squared-$ \\ell$2 regularizer\n",
    "\n",
    "\n",
    "We want to minimize\n",
    "$$\n",
    "\\frac 1n \\sum_{i=1}^n \\log(1 + \\exp(-y_i X_i^\\top \\theta)) + \\frac \\lambda 2 \\|\\theta\\|_2^2  = \\frac 1n \\sum_{i=1}^n f_i(\\theta)\n",
    "$$\n",
    "\n",
    "where\n",
    "$$\n",
    "f_i(\\theta) = \\log(1 + \\exp(-y_i X_i^\\top \\theta) + \\frac \\lambda 2 \\|\\theta\\|_2^2.\n",
    "$$\n",
    "\n",
    "The gradient is : \n",
    "$$\n",
    "\\nabla f_i(\\theta) = - \\frac{y_i}{1 + \\exp(y_i X_i^\\top \\theta)} X_i + \\lambda \\theta.\n",
    "$$"
   ]
  },
  {
   "cell_type": "markdown",
   "metadata": {},
   "source": [
    "### Parameter values\n",
    "\n",
    "#### Stepsize  \n",
    "\n",
    "Although Gower et al. chose the stepsize through a grid search procedure, we use a theoretical step-size equals to $1 / L$. (reference ??)\n",
    "Where $L$ the Lipschitz constant of $f$ and $\\mathbf X^\\top = [X_1, \\ldots, X_n].$\n",
    "One can easily see (using $\\|\\cdot\\|_{2}$ for the matrix spectrale norm) that for logistic regression it is\n",
    "$$\n",
    "L = \\frac{ \\|\\mathbf X^\\top \\mathbf X \\|_{2}}{4 n} + \\lambda.\n",
    "$$\n",
    "\n",
    "$ \\frac{1}{\\max_{i=1,\\ldots,n} L_i}$ where $ L_i = \\frac 14 \\| X_i \\|_2^2 + \\lambda$    (reference ???)\n",
    "\n",
    "\n",
    "\n",
    "\n",
    "#### Regularization parameter\n",
    "\n",
    "The regularization parameter is set to $ \\lambda= max_{i=1,…,n} \\frac{||X_i||_2^2}{ 4n}$."
   ]
  },
  {
   "cell_type": "code",
   "execution_count": 97,
   "metadata": {
    "scrolled": true
   },
   "outputs": [],
   "source": [
    "# We define the functions used in the optimization part \n",
    "\n",
    "class Classification(object):\n",
    "    \"\"\"A class for the logistic regression with ridge penalization\"\"\"\n",
    "    \n",
    "    def __init__(self, x_train, y_train, lbda):\n",
    "        self.x_train = x_train\n",
    "        self.y_train = y_train\n",
    "        self.n, self.d = x_train.shape\n",
    "        self.lbda = lbda\n",
    "\n",
    "    def loss(self, theta):\n",
    "        bAx = self.y_train * np.dot(self.x_train, theta)\n",
    "        return np.mean(np.log(1. + np.exp(- bAx))) + self.lbda * np.linalg.norm(theta) ** 2 / 2.\n",
    "\n",
    "    def grad(self, theta):\n",
    "        bAx = self.y_train * np.dot(self.x_train, theta)\n",
    "        temp = 1. / (1. + np.exp(bAx))\n",
    "        grad = - np.dot(self.x_train.T, self.y_train * temp) / self.n + self.lbda * theta\n",
    "        return grad\n",
    "    \n",
    "    def grad_i(self, i, theta):\n",
    "        grad = - self.x_train[i] * self.y_train[i] / (1. + np.exp(self.y_train[i] * np.dot(self.x_train[i], theta)))\n",
    "        grad += self.lbda * theta\n",
    "        return grad\n",
    "    \n",
    "    def hess(self, theta):\n",
    "        hess = np.mean([self.hess_i(i, theta) for i in range(self.n)])\n",
    "        return hess\n",
    "        \n",
    "    def hess_i(self, i, theta):\n",
    "        temp = 1 / (1. + np.exp(self.y_train[i] * np.dot(self.x_train[i], theta))) \n",
    "        xy = self.x_train[i] * self.y_train[i] * temp\n",
    "        hess = np.dot(xy, xy.T) + self.lbda\n",
    "        return hess  \n",
    "\n",
    "    def lipschitz_constant(self):\n",
    "        return np.linalg.norm(self.x_train, ord=2) ** 2 / (4. * self.n) + self.lbda   "
   ]
  },
  {
   "cell_type": "markdown",
   "metadata": {},
   "source": [
    "<a id='datareg'></a>\n",
    "## 2. Loss functions and gradients for least-squares regression (Cadata dataset)\n",
    "\n",
    "\n",
    "### Cadata Dataset Pre-Processing\n",
    "\n",
    "The California housing dataset (Cadata) contains details related to the housing of the population in a given California district (number of people in a certain area, geographic area, average income, housing average age, average rooms, etc.). The average house value is the target variable.\n",
    "The dataset contains 8 features and 20640 samples."
   ]
  },
  {
   "cell_type": "code",
   "execution_count": 8,
   "metadata": {},
   "outputs": [],
   "source": [
    "x_train , y_train = load_svmlight_file(\"cadata.txt\")\n",
    "\n",
    "# Here the shape of x_train is (20640, 8) = (dimension, number of examples)\n",
    "x_train = x_train.toarray()\n",
    "y_train = y_train.reshape((y_train.size, 1))\n",
    "\n",
    "# Standardize features by removing the mean and scaling to unit variance\n",
    "scaler = StandardScaler()\n",
    "x_train_r = scaler.fit_transform(x_train)\n",
    "y_train = scaler.fit_transform(y_train)\n",
    "y_train_r = y_train.reshape((y_train.size,))"
   ]
  },
  {
   "cell_type": "markdown",
   "metadata": {},
   "source": [
    "### Least-Square loss with $\\ell_2$ regularizer\n",
    "\n",
    "We want to minimize\n",
    "$$\n",
    "\\frac 1n \\sum_{i=1}^n \\frac 12 (y_i - X_i^\\top \\theta)^2 + \\frac \\lambda 2 \\|\\theta\\|_2^2 = \\frac 1n \\sum_{i=1}^n f_i(\\theta)\n",
    "$$\n",
    "\n",
    "where\n",
    "$$\n",
    "f_i(\\theta) = \\frac 12 (y_i - X_i^\\top \\theta)^2  + \\frac \\lambda 2 \\|\\theta\\|_2^2.\n",
    "$$\n",
    "\n",
    "The gradient is\n",
    "$$\n",
    "\\nabla f_i(\\theta) = (X_i^\\top \\theta - y_i) X_i + \\lambda \\theta\n",
    "$$\n",
    "\n",
    "The hessian is\n",
    "$$\n",
    "H_i(\\theta) = X_i {X_i}^{T} + \\lambda I\n",
    "$$"
   ]
  },
  {
   "cell_type": "markdown",
   "metadata": {},
   "source": [
    "### Parameter values\n",
    "\n",
    "#### Stepsize  ( à voir ????????????)\n",
    "\n",
    "Although Gower et al. chose the stepsize through a grid search procedure, we use a theoretical step-size equals to $1 / L$. (reference ??)\n",
    "Where $L$ the Lipschitz constant of $f$ and $\\mathbf X^\\top = [X_1, \\ldots, X_n].$\n",
    "One can easily see (using $\\|\\cdot\\|_{2}$ for the matrix spectrale norm) that for logistic regression it is\n",
    "$$\n",
    "L = \\frac{ \\|\\mathbf X^\\top \\mathbf X \\|_{2}}{n} + \\lambda \\quad \\text{ and } L_i = \\| X_i \\|_2^2 + \\lambda\n",
    "$$\n",
    "\n",
    "##### ???? ou \n",
    "$ \\frac{1}{\\max_{i=1,\\ldots,n} L_i}$ where $ L_i = \\frac 14 \\| X_i \\|_2^2 + \\lambda$    (reference ???)\n",
    "\n",
    "\n",
    "#### Regularization parameter\n",
    "\n",
    "The regularization parameter is set to $ \\lambda= max_{i=1,…,n} \\frac{||X_i||_2^2}{ 4n}$.\n",
    "\n"
   ]
  },
  {
   "cell_type": "code",
   "execution_count": 152,
   "metadata": {},
   "outputs": [],
   "source": [
    "# We define the functions used in the optimization part \n",
    "\n",
    "class Regression(object):\n",
    "    \"\"\"A class for the least-squares regression with ridge penalization\"\"\"\n",
    "\n",
    "    def __init__(self, x_train, y_train, lbda):\n",
    "        self.x_train = x_train\n",
    "        self.y_train = y_train\n",
    "        self.n, self.d = x_train.shape\n",
    "        self.lbda = lbda\n",
    "\n",
    "    def grad(self, theta):\n",
    "        return self.x_train.T.dot(self.x_train.dot(theta) - self.y_train) / self.n + self.lbda * theta\n",
    "\n",
    "    def loss(self, theta):\n",
    "        return norm(self.x_train.dot(theta) - self.y_train) ** 2 / (2. * self.n) + self.lbda * norm(theta) ** 2 / 2.\n",
    "\n",
    "    def grad_i(self, i, theta):\n",
    "        a_i = self.x_train[i]\n",
    "        return (a_i.dot(theta) - self.y_train[i]) * a_i + self.lbda * theta\n",
    "    \n",
    "    def hess(self, theta=None): \n",
    "        hess = np.mean([self.hess_i(i, theta) for i in range(self.n)])\n",
    "        return hess\n",
    "    \n",
    "    def hess_i(self, i, theta=None):\n",
    "        a_i = self.x_train[i]\n",
    "        a_i = np.expand_dims(a_i, axis=1)\n",
    "        hess = np.dot(a_i, a_i.T) + self.lbda\n",
    "        return hess\n",
    "        \n",
    "    def lipschitz_constant(self):\n",
    "        \"\"\"Return the Lipschitz constant of the gradient\"\"\"\n",
    "        return norm(self.x_train, ord=2) ** 2 / self.n + self.lbda"
   ]
  },
  {
   "cell_type": "code",
   "execution_count": 153,
   "metadata": {},
   "outputs": [
    {
     "name": "stdout",
     "output_type": "stream",
     "text": [
      "\u001b[1mRegression (Cadata Dataset): \u001b[0m\n",
      "After iteration 10 loss is now:  6.223527731475175\n",
      "After iteration 20 loss is now:  18010.710995979694\n",
      "After iteration 30 loss is now:  53886432.37171585\n",
      "After iteration 40 loss is now:  161225102472.2304\n",
      "After iteration 50 loss is now:  482376223747306.1\n"
     ]
    },
    {
     "ename": "KeyboardInterrupt",
     "evalue": "",
     "output_type": "error",
     "traceback": [
      "\u001b[0;31m---------------------------------------------------------------------------\u001b[0m",
      "\u001b[0;31mKeyboardInterrupt\u001b[0m                         Traceback (most recent call last)",
      "\u001b[0;32m<ipython-input-153-4827006eac3e>\u001b[0m in \u001b[0;36m<module>\u001b[0;34m()\u001b[0m\n\u001b[1;32m      8\u001b[0m \u001b[0mmax_squared_sum\u001b[0m \u001b[0;34m=\u001b[0m \u001b[0mnp\u001b[0m\u001b[0;34m.\u001b[0m\u001b[0mmax\u001b[0m\u001b[0;34m(\u001b[0m\u001b[0mnp\u001b[0m\u001b[0;34m.\u001b[0m\u001b[0msum\u001b[0m\u001b[0;34m(\u001b[0m\u001b[0mx_train_r\u001b[0m \u001b[0;34m**\u001b[0m \u001b[0;36m2\u001b[0m\u001b[0;34m,\u001b[0m \u001b[0maxis\u001b[0m\u001b[0;34m=\u001b[0m\u001b[0;36m1\u001b[0m\u001b[0;34m)\u001b[0m\u001b[0;34m)\u001b[0m\u001b[0;34m\u001b[0m\u001b[0m\n\u001b[1;32m      9\u001b[0m \u001b[0mstepsize\u001b[0m \u001b[0;34m=\u001b[0m \u001b[0;36m2\u001b[0m\u001b[0;34m**\u001b[0m\u001b[0;36m2\u001b[0m \u001b[0;34m/\u001b[0m \u001b[0;34m(\u001b[0m\u001b[0mmax_squared_sum\u001b[0m \u001b[0;34m+\u001b[0m \u001b[0mlbda\u001b[0m\u001b[0;34m)\u001b[0m\u001b[0;34m\u001b[0m\u001b[0m\n\u001b[0;32m---> 10\u001b[0;31m \u001b[0msvrg_reg\u001b[0m \u001b[0;34m=\u001b[0m \u001b[0moptimize_svrg_2\u001b[0m\u001b[0;34m(\u001b[0m\u001b[0;36m100\u001b[0m\u001b[0;34m,\u001b[0m \u001b[0;36m2\u001b[0m \u001b[0;34m*\u001b[0m \u001b[0;36m100\u001b[0m\u001b[0;34m,\u001b[0m \u001b[0mx_train_r\u001b[0m\u001b[0;34m,\u001b[0m \u001b[0my_train_r\u001b[0m\u001b[0;34m,\u001b[0m \u001b[0mstepsize\u001b[0m\u001b[0;34m,\u001b[0m \u001b[0mmodel\u001b[0m\u001b[0;34m)\u001b[0m\u001b[0;34m\u001b[0m\u001b[0m\n\u001b[0m",
      "\u001b[0;32m<ipython-input-128-aa4f7aaeb39f>\u001b[0m in \u001b[0;36moptimize_svrg_2\u001b[0;34m(itr1, itr2, x_train, y_train, stepsize, model)\u001b[0m\n\u001b[1;32m     13\u001b[0m     \u001b[0;32mfor\u001b[0m \u001b[0mk\u001b[0m \u001b[0;32min\u001b[0m \u001b[0mrange\u001b[0m\u001b[0;34m(\u001b[0m\u001b[0;36m1\u001b[0m\u001b[0;34m,\u001b[0m \u001b[0mitr1\u001b[0m\u001b[0;34m+\u001b[0m\u001b[0;36m1\u001b[0m\u001b[0;34m)\u001b[0m\u001b[0;34m:\u001b[0m\u001b[0;34m\u001b[0m\u001b[0m\n\u001b[1;32m     14\u001b[0m         \u001b[0mgrad_k\u001b[0m \u001b[0;34m=\u001b[0m  \u001b[0mmodel\u001b[0m\u001b[0;34m.\u001b[0m\u001b[0mgrad\u001b[0m\u001b[0;34m(\u001b[0m\u001b[0mtheta_bar\u001b[0m\u001b[0;34m)\u001b[0m\u001b[0;34m\u001b[0m\u001b[0m\n\u001b[0;32m---> 15\u001b[0;31m         \u001b[0mhess_k\u001b[0m \u001b[0;34m=\u001b[0m \u001b[0mmodel\u001b[0m\u001b[0;34m.\u001b[0m\u001b[0mhess\u001b[0m\u001b[0;34m(\u001b[0m\u001b[0mtheta_bar\u001b[0m\u001b[0;34m)\u001b[0m\u001b[0;34m\u001b[0m\u001b[0m\n\u001b[0m\u001b[1;32m     16\u001b[0m         \u001b[0mtheta\u001b[0m \u001b[0;34m=\u001b[0m \u001b[0mtheta_bar\u001b[0m\u001b[0;34m.\u001b[0m\u001b[0mcopy\u001b[0m\u001b[0;34m(\u001b[0m\u001b[0;34m)\u001b[0m\u001b[0;34m\u001b[0m\u001b[0m\n\u001b[1;32m     17\u001b[0m \u001b[0;34m\u001b[0m\u001b[0m\n",
      "\u001b[0;32m<ipython-input-152-f8d9457a5b50>\u001b[0m in \u001b[0;36mhess\u001b[0;34m(self, theta)\u001b[0m\n\u001b[1;32m     21\u001b[0m \u001b[0;34m\u001b[0m\u001b[0m\n\u001b[1;32m     22\u001b[0m     \u001b[0;32mdef\u001b[0m \u001b[0mhess\u001b[0m\u001b[0;34m(\u001b[0m\u001b[0mself\u001b[0m\u001b[0;34m,\u001b[0m \u001b[0mtheta\u001b[0m\u001b[0;34m=\u001b[0m\u001b[0;32mNone\u001b[0m\u001b[0;34m)\u001b[0m\u001b[0;34m:\u001b[0m\u001b[0;34m\u001b[0m\u001b[0m\n\u001b[0;32m---> 23\u001b[0;31m         \u001b[0mhess\u001b[0m \u001b[0;34m=\u001b[0m \u001b[0mnp\u001b[0m\u001b[0;34m.\u001b[0m\u001b[0mmean\u001b[0m\u001b[0;34m(\u001b[0m\u001b[0;34m[\u001b[0m\u001b[0mself\u001b[0m\u001b[0;34m.\u001b[0m\u001b[0mhess_i\u001b[0m\u001b[0;34m(\u001b[0m\u001b[0mi\u001b[0m\u001b[0;34m,\u001b[0m \u001b[0mtheta\u001b[0m\u001b[0;34m)\u001b[0m \u001b[0;32mfor\u001b[0m \u001b[0mi\u001b[0m \u001b[0;32min\u001b[0m \u001b[0mrange\u001b[0m\u001b[0;34m(\u001b[0m\u001b[0mself\u001b[0m\u001b[0;34m.\u001b[0m\u001b[0mn\u001b[0m\u001b[0;34m)\u001b[0m\u001b[0;34m]\u001b[0m\u001b[0;34m)\u001b[0m\u001b[0;34m\u001b[0m\u001b[0m\n\u001b[0m\u001b[1;32m     24\u001b[0m         \u001b[0;32mreturn\u001b[0m \u001b[0mhess\u001b[0m\u001b[0;34m\u001b[0m\u001b[0m\n\u001b[1;32m     25\u001b[0m \u001b[0;34m\u001b[0m\u001b[0m\n",
      "\u001b[0;32m<ipython-input-152-f8d9457a5b50>\u001b[0m in \u001b[0;36m<listcomp>\u001b[0;34m(.0)\u001b[0m\n\u001b[1;32m     21\u001b[0m \u001b[0;34m\u001b[0m\u001b[0m\n\u001b[1;32m     22\u001b[0m     \u001b[0;32mdef\u001b[0m \u001b[0mhess\u001b[0m\u001b[0;34m(\u001b[0m\u001b[0mself\u001b[0m\u001b[0;34m,\u001b[0m \u001b[0mtheta\u001b[0m\u001b[0;34m=\u001b[0m\u001b[0;32mNone\u001b[0m\u001b[0;34m)\u001b[0m\u001b[0;34m:\u001b[0m\u001b[0;34m\u001b[0m\u001b[0m\n\u001b[0;32m---> 23\u001b[0;31m         \u001b[0mhess\u001b[0m \u001b[0;34m=\u001b[0m \u001b[0mnp\u001b[0m\u001b[0;34m.\u001b[0m\u001b[0mmean\u001b[0m\u001b[0;34m(\u001b[0m\u001b[0;34m[\u001b[0m\u001b[0mself\u001b[0m\u001b[0;34m.\u001b[0m\u001b[0mhess_i\u001b[0m\u001b[0;34m(\u001b[0m\u001b[0mi\u001b[0m\u001b[0;34m,\u001b[0m \u001b[0mtheta\u001b[0m\u001b[0;34m)\u001b[0m \u001b[0;32mfor\u001b[0m \u001b[0mi\u001b[0m \u001b[0;32min\u001b[0m \u001b[0mrange\u001b[0m\u001b[0;34m(\u001b[0m\u001b[0mself\u001b[0m\u001b[0;34m.\u001b[0m\u001b[0mn\u001b[0m\u001b[0;34m)\u001b[0m\u001b[0;34m]\u001b[0m\u001b[0;34m)\u001b[0m\u001b[0;34m\u001b[0m\u001b[0m\n\u001b[0m\u001b[1;32m     24\u001b[0m         \u001b[0;32mreturn\u001b[0m \u001b[0mhess\u001b[0m\u001b[0;34m\u001b[0m\u001b[0m\n\u001b[1;32m     25\u001b[0m \u001b[0;34m\u001b[0m\u001b[0m\n",
      "\u001b[0;32m<ipython-input-152-f8d9457a5b50>\u001b[0m in \u001b[0;36mhess_i\u001b[0;34m(self, i, theta)\u001b[0m\n\u001b[1;32m     27\u001b[0m         \u001b[0ma_i\u001b[0m \u001b[0;34m=\u001b[0m \u001b[0mself\u001b[0m\u001b[0;34m.\u001b[0m\u001b[0mx_train\u001b[0m\u001b[0;34m[\u001b[0m\u001b[0mi\u001b[0m\u001b[0;34m]\u001b[0m\u001b[0;34m\u001b[0m\u001b[0m\n\u001b[1;32m     28\u001b[0m         \u001b[0ma_i\u001b[0m \u001b[0;34m=\u001b[0m \u001b[0mnp\u001b[0m\u001b[0;34m.\u001b[0m\u001b[0mexpand_dims\u001b[0m\u001b[0;34m(\u001b[0m\u001b[0ma_i\u001b[0m\u001b[0;34m,\u001b[0m \u001b[0maxis\u001b[0m\u001b[0;34m=\u001b[0m\u001b[0;36m1\u001b[0m\u001b[0;34m)\u001b[0m\u001b[0;34m\u001b[0m\u001b[0m\n\u001b[0;32m---> 29\u001b[0;31m         \u001b[0mhess\u001b[0m \u001b[0;34m=\u001b[0m \u001b[0mnp\u001b[0m\u001b[0;34m.\u001b[0m\u001b[0mdot\u001b[0m\u001b[0;34m(\u001b[0m\u001b[0ma_i\u001b[0m\u001b[0;34m,\u001b[0m \u001b[0ma_i\u001b[0m\u001b[0;34m.\u001b[0m\u001b[0mT\u001b[0m\u001b[0;34m)\u001b[0m \u001b[0;31m#+ self.lbda\u001b[0m\u001b[0;34m\u001b[0m\u001b[0m\n\u001b[0m\u001b[1;32m     30\u001b[0m         \u001b[0;32mreturn\u001b[0m \u001b[0mhess\u001b[0m\u001b[0;34m\u001b[0m\u001b[0m\n\u001b[1;32m     31\u001b[0m \u001b[0;34m\u001b[0m\u001b[0m\n",
      "\u001b[0;31mKeyboardInterrupt\u001b[0m: "
     ]
    }
   ],
   "source": [
    "print(\"\\033[1mRegression (Cadata Dataset): \\033[0m\")\n",
    "n = x_train_r.shape[0]\n",
    "\n",
    "lbda = np.max(np.sum(x_train_r ** 2, axis=1))  / (4. * n)\n",
    "lbda = 1. / n ** (0.5)\n",
    "model = Regression(x_train_r, y_train_r, lbda)\n",
    "\n",
    "max_squared_sum = np.max(np.sum(x_train_r ** 2, axis=1)) \n",
    "stepsize = 2**2 / (max_squared_sum + lbda) \n",
    "svrg_reg = optimize_svrg_2(100, 2 * 100, x_train_r, y_train_r, stepsize, model)"
   ]
  },
  {
   "cell_type": "markdown",
   "metadata": {},
   "source": [
    "<a id='algo'></a>\n",
    "## 3. Algorithms\n",
    "\n"
   ]
  },
  {
   "cell_type": "markdown",
   "metadata": {},
   "source": [
    "### SVRG"
   ]
  },
  {
   "cell_type": "markdown",
   "metadata": {},
   "source": [
    "#### Commentaires (à supp):\n",
    "\n",
    "- itr2 : doit etre égal à n ou 2*n  => Johnson and Zhang : \"Therefore it is natural to choose m to\n",
    "be the same order of n but slightly larger (for example m = 2n for convex problems and m =\n",
    "5n for nonconvex problems in our experiments)\"\n",
    "\n",
    "- lambda :lbda = 1. / n ** (0.5) Ou lbda = np.max(np.sum(x_train_c ** 2, axis=1))  / (4. * n). "
   ]
  },
  {
   "cell_type": "code",
   "execution_count": 107,
   "metadata": {
    "collapsed": true
   },
   "outputs": [],
   "source": [
    "# SVRG\n",
    "\n",
    "def optimize_svrg(itr1, itr2, x_train, y_train, stepsize, model):\n",
    "    \"\"\"Stochastic variance reduction gradient algorithm.\"\"\"\n",
    "    \n",
    "    n = x_train.shape[0]\n",
    "    d = x_train.shape[1]\n",
    "    \n",
    "    theta_init = np.zeros(d)\n",
    "    theta_bar = theta_init.copy()\n",
    "    loss_history = []\n",
    "    \n",
    "    for k in range(1, itr1+1):\n",
    "        grad_k =  model.grad(theta_bar)\n",
    "        theta = theta_bar.copy()\n",
    "        \n",
    "        for t in range(itr2):\n",
    "            i = np.random.randint(0, n) \n",
    "            theta = theta - stepsize * (model.grad_i(i, theta) - model.grad_i(i, theta_bar) + grad_k)  \n",
    "            \n",
    "        theta_bar = theta\n",
    "        \n",
    "        if (k % 10) == 0:\n",
    "            print(\"After iteration {} loss is now: \".format(k), model.loss(theta_bar))\n",
    "            loss_history.append(model.loss(theta_bar))\n",
    "    plt.plot(loss_history)\n",
    "    \n",
    "    return theta_bar"
   ]
  },
  {
   "cell_type": "code",
   "execution_count": 128,
   "metadata": {
    "collapsed": true
   },
   "outputs": [],
   "source": [
    "## SVRG2\n",
    "\n",
    "def optimize_svrg_2(itr1, itr2, x_train, y_train, stepsize, model):\n",
    "    \"\"\"Stochastic variance reduction gradient algorithm with second-order tracking.\"\"\"\n",
    "\n",
    "    n = x_train.shape[0]\n",
    "    d = x_train.shape[1]\n",
    "    \n",
    "    theta_init = np.zeros(d)\n",
    "    theta_bar = theta_init.copy()\n",
    "    loss_history = []\n",
    "    \n",
    "    for k in range(1, itr1+1):\n",
    "        grad_k =  model.grad(theta_bar)\n",
    "        hess_k = model.hess(theta_bar)\n",
    "        theta = theta_bar.copy()\n",
    "        \n",
    "        for t in range(itr2):\n",
    "            i = np.random.randint(0, n)\n",
    "            \n",
    "            theta = theta - stepsize * (model.grad_i(i, theta) - model.grad_i(i, theta_bar)\n",
    "                                        - np.dot(model.hess_i(i, theta_bar), theta - theta_bar)\n",
    "                                        + grad_k)# + np.dot(hess_k, theta - theta_bar))\n",
    "        theta_bar = theta\n",
    "        \n",
    "        if (k % 10) == 0:\n",
    "            print(\"After iteration {} loss is now: \".format(k), model.loss(theta_bar))\n",
    "            loss_history.append(model.loss(theta_bar))    \n",
    "    plt.plot(loss_history)\n",
    "        \n",
    "    return theta_bar"
   ]
  },
  {
   "cell_type": "markdown",
   "metadata": {},
   "source": [
    "<a id='comp1'></a>\n",
    "## 4. Classification case : Numerical comparison\n"
   ]
  },
  {
   "cell_type": "markdown",
   "metadata": {},
   "source": [
    "<a id='comp1'></a>\n",
    "### SVRG1\n"
   ]
  },
  {
   "cell_type": "code",
   "execution_count": 109,
   "metadata": {},
   "outputs": [
    {
     "name": "stdout",
     "output_type": "stream",
     "text": [
      "\u001b[1mClassification (Gisette Dataset): \u001b[0m\n",
      "After iteration 10 loss is now:  0.1907201312029001\n",
      "After iteration 20 loss is now:  0.1888593342195758\n",
      "After iteration 30 loss is now:  0.18878194374166335\n",
      "After iteration 40 loss is now:  0.1887781218734355\n",
      "After iteration 50 loss is now:  0.18877791648807313\n",
      "After iteration 60 loss is now:  0.1887779048610322\n",
      "After iteration 70 loss is now:  0.1887779041764561\n",
      "After iteration 80 loss is now:  0.18877790413516332\n",
      "After iteration 90 loss is now:  0.18877790413262696\n",
      "After iteration 100 loss is now:  0.18877790413246875\n"
     ]
    },
    {
     "data": {
      "image/png": "[encoded data removed]",
      "text/plain": [
       "<matplotlib.figure.Figure at 0x1a16ce6f98>"
      ]
     },
     "metadata": {},
     "output_type": "display_data"
    }
   ],
   "source": [
    "print(\"\\033[1mClassification (Gisette Dataset): \\033[0m\")\n",
    "n = x_train_c.shape[0]\n",
    "lbda = np.max(np.sum(x_train_c ** 2, axis=1))  / (4. * n)\n",
    "#lbda = 1. / n ** (0.5)\n",
    "model = Classification(x_train_c, y_train_c, lbda)\n",
    "\n",
    "max_squared_sum = np.max(np.sum(x_train_c ** 2, axis=1)) \n",
    "stepsize = 2**4 / (max_squared_sum + lbda) \n",
    "svrg_class = optimize_svrg(100, 2 * 100, x_train_c, y_train_c, stepsize, model)"
   ]
  },
  {
   "cell_type": "code",
   "execution_count": 110,
   "metadata": {},
   "outputs": [
    {
     "name": "stdout",
     "output_type": "stream",
     "text": [
      "\u001b[1mClassification (Gisette Dataset): \u001b[0m\n",
      "After iteration 10 loss is now:  0.8535869229539431\n",
      "After iteration 20 loss is now:  1.096627936891198\n",
      "After iteration 30 loss is now:  0.30991544362277773\n",
      "After iteration 40 loss is now:  0.4761820166845328\n",
      "After iteration 50 loss is now:  0.21349685226746357\n",
      "After iteration 60 loss is now:  0.10984562498763148\n",
      "After iteration 70 loss is now:  0.03613922573783292\n",
      "After iteration 80 loss is now:  0.08378517655552156\n",
      "After iteration 90 loss is now:  0.04488530837618876\n",
      "After iteration 100 loss is now:  0.10883226089021172\n"
     ]
    },
    {
     "data": {
      "image/png": "[encoded data removed]",
      "text/plain": [
       "<matplotlib.figure.Figure at 0x108663780>"
      ]
     },
     "metadata": {},
     "output_type": "display_data"
    }
   ],
   "source": [
    "print(\"\\033[1mClassification (Gisette Dataset): \\033[0m\")\n",
    "n = x_train_c.shape[0]\n",
    "#lbda = np.max(np.sum(x_train_c ** 2, axis=1))  / (4. * n)\n",
    "lbda = 1. / n ** (0.5)\n",
    "model = Classification(x_train_c, y_train_c, lbda)\n",
    "\n",
    "max_squared_sum = np.max(np.sum(x_train_c ** 2, axis=1)) \n",
    "stepsize = 2**8 / (max_squared_sum + lbda) \n",
    "svrg_class = optimize_svrg(100, 2 * 100, x_train_c, y_train_c, stepsize, model)"
   ]
  },
  {
   "cell_type": "markdown",
   "metadata": {},
   "source": [
    "<a id='comp1'></a>\n",
    "### SVRG2\n"
   ]
  },
  {
   "cell_type": "code",
   "execution_count": 111,
   "metadata": {},
   "outputs": [
    {
     "name": "stdout",
     "output_type": "stream",
     "text": [
      "\u001b[1mClassification (Gisette Dataset): \u001b[0m\n"
     ]
    },
    {
     "name": "stderr",
     "output_type": "stream",
     "text": [
      "/Users/charlesdognin/anaconda3/lib/python3.6/site-packages/ipykernel_launcher.py:23: RuntimeWarning: overflow encountered in exp\n",
      "/Users/charlesdognin/anaconda3/lib/python3.6/site-packages/ipykernel_launcher.py:18: RuntimeWarning: overflow encountered in exp\n",
      "/Users/charlesdognin/anaconda3/lib/python3.6/site-packages/ipykernel_launcher.py:32: RuntimeWarning: overflow encountered in exp\n"
     ]
    },
    {
     "name": "stdout",
     "output_type": "stream",
     "text": [
      "After iteration 10 loss is now:  nan\n",
      "After iteration 20 loss is now:  nan\n"
     ]
    },
    {
     "ename": "KeyboardInterrupt",
     "evalue": "",
     "output_type": "error",
     "traceback": [
      "\u001b[0;31m---------------------------------------------------------------------------\u001b[0m",
      "\u001b[0;31mKeyboardInterrupt\u001b[0m                         Traceback (most recent call last)",
      "\u001b[0;32m<ipython-input-111-1997a20956cd>\u001b[0m in \u001b[0;36m<module>\u001b[0;34m()\u001b[0m\n\u001b[1;32m      6\u001b[0m \u001b[0mmax_squared_sum\u001b[0m \u001b[0;34m=\u001b[0m \u001b[0mnp\u001b[0m\u001b[0;34m.\u001b[0m\u001b[0mmax\u001b[0m\u001b[0;34m(\u001b[0m\u001b[0mnp\u001b[0m\u001b[0;34m.\u001b[0m\u001b[0msum\u001b[0m\u001b[0;34m(\u001b[0m\u001b[0mx_train_c\u001b[0m \u001b[0;34m**\u001b[0m \u001b[0;36m2\u001b[0m\u001b[0;34m,\u001b[0m \u001b[0maxis\u001b[0m\u001b[0;34m=\u001b[0m\u001b[0;36m1\u001b[0m\u001b[0;34m)\u001b[0m\u001b[0;34m)\u001b[0m\u001b[0;34m\u001b[0m\u001b[0m\n\u001b[1;32m      7\u001b[0m \u001b[0mstepsize\u001b[0m \u001b[0;34m=\u001b[0m \u001b[0;36m2\u001b[0m\u001b[0;34m**\u001b[0m\u001b[0;36m8\u001b[0m \u001b[0;34m/\u001b[0m \u001b[0;34m(\u001b[0m\u001b[0mmax_squared_sum\u001b[0m \u001b[0;34m+\u001b[0m \u001b[0mlbda\u001b[0m\u001b[0;34m)\u001b[0m\u001b[0;34m\u001b[0m\u001b[0m\n\u001b[0;32m----> 8\u001b[0;31m \u001b[0msvrg_class\u001b[0m \u001b[0;34m=\u001b[0m \u001b[0moptimize_svrg_2\u001b[0m\u001b[0;34m(\u001b[0m\u001b[0;36m100\u001b[0m\u001b[0;34m,\u001b[0m \u001b[0;36m2\u001b[0m \u001b[0;34m*\u001b[0m \u001b[0;36m100\u001b[0m\u001b[0;34m,\u001b[0m \u001b[0mx_train_c\u001b[0m\u001b[0;34m,\u001b[0m \u001b[0my_train_c\u001b[0m\u001b[0;34m,\u001b[0m \u001b[0mstepsize\u001b[0m\u001b[0;34m,\u001b[0m \u001b[0mmodel\u001b[0m\u001b[0;34m)\u001b[0m\u001b[0;34m\u001b[0m\u001b[0m\n\u001b[0m",
      "\u001b[0;32m<ipython-input-108-d63511c29c0a>\u001b[0m in \u001b[0;36moptimize_svrg_2\u001b[0;34m(itr1, itr2, x_train, y_train, stepsize, model)\u001b[0m\n\u001b[1;32m     13\u001b[0m     \u001b[0;32mfor\u001b[0m \u001b[0mk\u001b[0m \u001b[0;32min\u001b[0m \u001b[0mrange\u001b[0m\u001b[0;34m(\u001b[0m\u001b[0;36m1\u001b[0m\u001b[0;34m,\u001b[0m \u001b[0mitr1\u001b[0m\u001b[0;34m+\u001b[0m\u001b[0;36m1\u001b[0m\u001b[0;34m)\u001b[0m\u001b[0;34m:\u001b[0m\u001b[0;34m\u001b[0m\u001b[0m\n\u001b[1;32m     14\u001b[0m         \u001b[0mgrad_k\u001b[0m \u001b[0;34m=\u001b[0m  \u001b[0mmodel\u001b[0m\u001b[0;34m.\u001b[0m\u001b[0mgrad\u001b[0m\u001b[0;34m(\u001b[0m\u001b[0mtheta_bar\u001b[0m\u001b[0;34m)\u001b[0m\u001b[0;34m\u001b[0m\u001b[0m\n\u001b[0;32m---> 15\u001b[0;31m         \u001b[0mhess_k\u001b[0m \u001b[0;34m=\u001b[0m \u001b[0mmodel\u001b[0m\u001b[0;34m.\u001b[0m\u001b[0mhess\u001b[0m\u001b[0;34m(\u001b[0m\u001b[0mtheta_bar\u001b[0m\u001b[0;34m)\u001b[0m\u001b[0;34m\u001b[0m\u001b[0m\n\u001b[0m\u001b[1;32m     16\u001b[0m         \u001b[0mtheta\u001b[0m \u001b[0;34m=\u001b[0m \u001b[0mtheta_bar\u001b[0m\u001b[0;34m.\u001b[0m\u001b[0mcopy\u001b[0m\u001b[0;34m(\u001b[0m\u001b[0;34m)\u001b[0m\u001b[0;34m\u001b[0m\u001b[0m\n\u001b[1;32m     17\u001b[0m \u001b[0;34m\u001b[0m\u001b[0m\n",
      "\u001b[0;32m<ipython-input-97-cd19127686cc>\u001b[0m in \u001b[0;36mhess\u001b[0;34m(self, theta)\u001b[0m\n\u001b[1;32m     26\u001b[0m \u001b[0;34m\u001b[0m\u001b[0m\n\u001b[1;32m     27\u001b[0m     \u001b[0;32mdef\u001b[0m \u001b[0mhess\u001b[0m\u001b[0;34m(\u001b[0m\u001b[0mself\u001b[0m\u001b[0;34m,\u001b[0m \u001b[0mtheta\u001b[0m\u001b[0;34m)\u001b[0m\u001b[0;34m:\u001b[0m\u001b[0;34m\u001b[0m\u001b[0m\n\u001b[0;32m---> 28\u001b[0;31m         \u001b[0mhess\u001b[0m \u001b[0;34m=\u001b[0m \u001b[0mnp\u001b[0m\u001b[0;34m.\u001b[0m\u001b[0mmean\u001b[0m\u001b[0;34m(\u001b[0m\u001b[0;34m[\u001b[0m\u001b[0mself\u001b[0m\u001b[0;34m.\u001b[0m\u001b[0mhess_i\u001b[0m\u001b[0;34m(\u001b[0m\u001b[0mi\u001b[0m\u001b[0;34m,\u001b[0m \u001b[0mtheta\u001b[0m\u001b[0;34m)\u001b[0m \u001b[0;32mfor\u001b[0m \u001b[0mi\u001b[0m \u001b[0;32min\u001b[0m \u001b[0mrange\u001b[0m\u001b[0;34m(\u001b[0m\u001b[0mself\u001b[0m\u001b[0;34m.\u001b[0m\u001b[0mn\u001b[0m\u001b[0;34m)\u001b[0m\u001b[0;34m]\u001b[0m\u001b[0;34m)\u001b[0m\u001b[0;34m\u001b[0m\u001b[0m\n\u001b[0m\u001b[1;32m     29\u001b[0m         \u001b[0;32mreturn\u001b[0m \u001b[0mhess\u001b[0m\u001b[0;34m\u001b[0m\u001b[0m\n\u001b[1;32m     30\u001b[0m \u001b[0;34m\u001b[0m\u001b[0m\n",
      "\u001b[0;32m<ipython-input-97-cd19127686cc>\u001b[0m in \u001b[0;36m<listcomp>\u001b[0;34m(.0)\u001b[0m\n\u001b[1;32m     26\u001b[0m \u001b[0;34m\u001b[0m\u001b[0m\n\u001b[1;32m     27\u001b[0m     \u001b[0;32mdef\u001b[0m \u001b[0mhess\u001b[0m\u001b[0;34m(\u001b[0m\u001b[0mself\u001b[0m\u001b[0;34m,\u001b[0m \u001b[0mtheta\u001b[0m\u001b[0;34m)\u001b[0m\u001b[0;34m:\u001b[0m\u001b[0;34m\u001b[0m\u001b[0m\n\u001b[0;32m---> 28\u001b[0;31m         \u001b[0mhess\u001b[0m \u001b[0;34m=\u001b[0m \u001b[0mnp\u001b[0m\u001b[0;34m.\u001b[0m\u001b[0mmean\u001b[0m\u001b[0;34m(\u001b[0m\u001b[0;34m[\u001b[0m\u001b[0mself\u001b[0m\u001b[0;34m.\u001b[0m\u001b[0mhess_i\u001b[0m\u001b[0;34m(\u001b[0m\u001b[0mi\u001b[0m\u001b[0;34m,\u001b[0m \u001b[0mtheta\u001b[0m\u001b[0;34m)\u001b[0m \u001b[0;32mfor\u001b[0m \u001b[0mi\u001b[0m \u001b[0;32min\u001b[0m \u001b[0mrange\u001b[0m\u001b[0;34m(\u001b[0m\u001b[0mself\u001b[0m\u001b[0;34m.\u001b[0m\u001b[0mn\u001b[0m\u001b[0;34m)\u001b[0m\u001b[0;34m]\u001b[0m\u001b[0;34m)\u001b[0m\u001b[0;34m\u001b[0m\u001b[0m\n\u001b[0m\u001b[1;32m     29\u001b[0m         \u001b[0;32mreturn\u001b[0m \u001b[0mhess\u001b[0m\u001b[0;34m\u001b[0m\u001b[0m\n\u001b[1;32m     30\u001b[0m \u001b[0;34m\u001b[0m\u001b[0m\n",
      "\u001b[0;32m<ipython-input-97-cd19127686cc>\u001b[0m in \u001b[0;36mhess_i\u001b[0;34m(self, i, theta)\u001b[0m\n\u001b[1;32m     31\u001b[0m     \u001b[0;32mdef\u001b[0m \u001b[0mhess_i\u001b[0m\u001b[0;34m(\u001b[0m\u001b[0mself\u001b[0m\u001b[0;34m,\u001b[0m \u001b[0mi\u001b[0m\u001b[0;34m,\u001b[0m \u001b[0mtheta\u001b[0m\u001b[0;34m)\u001b[0m\u001b[0;34m:\u001b[0m\u001b[0;34m\u001b[0m\u001b[0m\n\u001b[1;32m     32\u001b[0m         \u001b[0mtemp\u001b[0m \u001b[0;34m=\u001b[0m \u001b[0;36m1\u001b[0m \u001b[0;34m/\u001b[0m \u001b[0;34m(\u001b[0m\u001b[0;36m1.\u001b[0m \u001b[0;34m+\u001b[0m \u001b[0mnp\u001b[0m\u001b[0;34m.\u001b[0m\u001b[0mexp\u001b[0m\u001b[0;34m(\u001b[0m\u001b[0mself\u001b[0m\u001b[0;34m.\u001b[0m\u001b[0my_train\u001b[0m\u001b[0;34m[\u001b[0m\u001b[0mi\u001b[0m\u001b[0;34m]\u001b[0m \u001b[0;34m*\u001b[0m \u001b[0mnp\u001b[0m\u001b[0;34m.\u001b[0m\u001b[0mdot\u001b[0m\u001b[0;34m(\u001b[0m\u001b[0mself\u001b[0m\u001b[0;34m.\u001b[0m\u001b[0mx_train\u001b[0m\u001b[0;34m[\u001b[0m\u001b[0mi\u001b[0m\u001b[0;34m]\u001b[0m\u001b[0;34m,\u001b[0m \u001b[0mtheta\u001b[0m\u001b[0;34m)\u001b[0m\u001b[0;34m)\u001b[0m\u001b[0;34m)\u001b[0m\u001b[0;34m\u001b[0m\u001b[0m\n\u001b[0;32m---> 33\u001b[0;31m         \u001b[0mxy\u001b[0m \u001b[0;34m=\u001b[0m \u001b[0mself\u001b[0m\u001b[0;34m.\u001b[0m\u001b[0mx_train\u001b[0m\u001b[0;34m[\u001b[0m\u001b[0mi\u001b[0m\u001b[0;34m]\u001b[0m \u001b[0;34m*\u001b[0m \u001b[0mself\u001b[0m\u001b[0;34m.\u001b[0m\u001b[0my_train\u001b[0m\u001b[0;34m[\u001b[0m\u001b[0mi\u001b[0m\u001b[0;34m]\u001b[0m \u001b[0;34m*\u001b[0m \u001b[0mtemp\u001b[0m\u001b[0;34m\u001b[0m\u001b[0m\n\u001b[0m\u001b[1;32m     34\u001b[0m         \u001b[0mhess\u001b[0m \u001b[0;34m=\u001b[0m \u001b[0mnp\u001b[0m\u001b[0;34m.\u001b[0m\u001b[0mdot\u001b[0m\u001b[0;34m(\u001b[0m\u001b[0mxy\u001b[0m\u001b[0;34m,\u001b[0m \u001b[0mxy\u001b[0m\u001b[0;34m.\u001b[0m\u001b[0mT\u001b[0m\u001b[0;34m)\u001b[0m \u001b[0;34m+\u001b[0m \u001b[0mself\u001b[0m\u001b[0;34m.\u001b[0m\u001b[0mlbda\u001b[0m\u001b[0;34m\u001b[0m\u001b[0m\n\u001b[1;32m     35\u001b[0m         \u001b[0;32mreturn\u001b[0m \u001b[0mhess\u001b[0m\u001b[0;34m\u001b[0m\u001b[0m\n",
      "\u001b[0;31mKeyboardInterrupt\u001b[0m: "
     ]
    }
   ],
   "source": [
    "print(\"\\033[1mClassification (Gisette Dataset): \\033[0m\")\n",
    "n = x_train_c.shape[0]\n",
    "#lbda = np.max(np.sum(x_train_c ** 2, axis=1))  / (4. * n)\n",
    "lbda = 1. / n ** (0.5)\n",
    "model = Classification(x_train_c, y_train_c, lbda)\n",
    "max_squared_sum = np.max(np.sum(x_train_c ** 2, axis=1)) \n",
    "stepsize = 2**8 / (max_squared_sum + lbda) \n",
    "svrg_class = optimize_svrg_2(100, 2 * 100, x_train_c, y_train_c, stepsize, model)\n",
    "# When the stepsize is too important, we encounter an overflow"
   ]
  },
  {
   "cell_type": "code",
   "execution_count": 112,
   "metadata": {},
   "outputs": [
    {
     "name": "stdout",
     "output_type": "stream",
     "text": [
      "\u001b[1mClassification (Gisette Dataset): \u001b[0m\n",
      "After iteration 10 loss is now:  0.18363791878024108\n",
      "After iteration 20 loss is now:  0.1058442036486509\n",
      "After iteration 30 loss is now:  0.09889008493759201\n",
      "After iteration 40 loss is now:  0.08781370432493735\n",
      "After iteration 50 loss is now:  0.07891388945105235\n"
     ]
    },
    {
     "data": {
      "image/png": "[encoded data removed]",
      "text/plain": [
       "<matplotlib.figure.Figure at 0x1a2ed40400>"
      ]
     },
     "metadata": {},
     "output_type": "display_data"
    }
   ],
   "source": [
    "print(\"\\033[1mClassification (Gisette Dataset): \\033[0m\")\n",
    "n = x_train_c.shape[0]\n",
    "lbda = np.max(np.sum(x_train_c ** 2, axis=1))  / (4. * n)\n",
    "lbda = 1. / n ** (0.5)\n",
    "model = Classification(x_train_c, y_train_c, lbda)\n",
    "\n",
    "max_squared_sum = np.max(np.sum(x_train_c ** 2, axis=1)) \n",
    "stepsize = 2**4 / (max_squared_sum + lbda) \n",
    "svrg_class = optimize_svrg_2(50, 2 * 50, x_train_c, y_train_c, stepsize, model)"
   ]
  },
  {
   "cell_type": "markdown",
   "metadata": {},
   "source": [
    "<a id='comp2'></a>\n",
    "## 5. Regression case : Numerical comparison\n"
   ]
  },
  {
   "cell_type": "markdown",
   "metadata": {},
   "source": [
    "<a id='comp1'></a>\n",
    "### SVRG1\n"
   ]
  },
  {
   "cell_type": "code",
   "execution_count": 118,
   "metadata": {},
   "outputs": [
    {
     "name": "stdout",
     "output_type": "stream",
     "text": [
      "\u001b[1mRegression (Cadata Dataset): \u001b[0m\n",
      "After iteration 10 loss is now:  0.6540426525379853\n",
      "After iteration 20 loss is now:  0.31731272071685723\n",
      "After iteration 30 loss is now:  0.19470575031802645\n",
      "After iteration 40 loss is now:  0.19453472143081812\n",
      "After iteration 50 loss is now:  0.19453012115551266\n",
      "After iteration 60 loss is now:  0.19452936781481406\n",
      "After iteration 70 loss is now:  0.19452935990096448\n",
      "After iteration 80 loss is now:  0.19452935963668702\n",
      "After iteration 90 loss is now:  0.19452935962398488\n",
      "After iteration 100 loss is now:  0.194529359623382\n"
     ]
    },
    {
     "data": {
      "image/png": "[encoded data removed]",
      "text/plain": [
       "<matplotlib.figure.Figure at 0x1a2fdc9780>"
      ]
     },
     "metadata": {},
     "output_type": "display_data"
    }
   ],
   "source": [
    "print(\"\\033[1mRegression (Cadata Dataset): \\033[0m\")\n",
    "n = x_train_r.shape[0]\n",
    "#lbda = 1. / n ** (0.5)\n",
    "lbda = np.max(np.sum(x_train_r ** 2, axis=1))  / (4. * n)\n",
    "model = Regression(x_train_r, y_train_r, lbda)\n",
    "\n",
    "max_squared_sum = np.max(np.sum(x_train_r ** 2, axis=1)) \n",
    "stepsize = 2**5 / (max_squared_sum + lbda) \n",
    "svrg_reg = optimize_svrg(100, 2 * 100, x_train_r, y_train_r, stepsize, model)"
   ]
  },
  {
   "cell_type": "code",
   "execution_count": 119,
   "metadata": {
    "scrolled": true
   },
   "outputs": [
    {
     "name": "stdout",
     "output_type": "stream",
     "text": [
      "\u001b[1mRegression (Cadata Dataset): \u001b[0m\n",
      "After iteration 10 loss is now:  0.5074349457964101\n",
      "After iteration 20 loss is now:  0.19031347267677481\n",
      "After iteration 30 loss is now:  0.4259435918816916\n",
      "After iteration 40 loss is now:  0.2084902271592318\n",
      "After iteration 50 loss is now:  0.19211551772916813\n",
      "After iteration 60 loss is now:  0.18807905366205693\n",
      "After iteration 70 loss is now:  0.187914955584489\n",
      "After iteration 80 loss is now:  0.18789738402024933\n",
      "After iteration 90 loss is now:  0.18789549992469248\n",
      "After iteration 100 loss is now:  0.18789530153116946\n"
     ]
    },
    {
     "data": {
      "image/png": "[encoded data removed]",
      "text/plain": [
       "<matplotlib.figure.Figure at 0x1a2f1bbda0>"
      ]
     },
     "metadata": {},
     "output_type": "display_data"
    }
   ],
   "source": [
    "# Test for Regression\n",
    "print(\"\\033[1mRegression (Cadata Dataset): \\033[0m\")\n",
    "n = x_train_r.shape[0]\n",
    "lbda = 1. / n ** (0.5)\n",
    "#lbda = np.max(np.sum(x_train_r ** 2, axis=1))  / (4. * n)\n",
    "model = Regression(x_train_r, y_train_r, lbda)\n",
    "\n",
    "max_squared_sum = np.max(np.sum(x_train_r ** 2, axis=1)) \n",
    "stepsize = 2**5 / (max_squared_sum + lbda) \n",
    "svrg_reg = optimize_svrg(100, 2 * 100, x_train_r, y_train_r, stepsize, model)"
   ]
  },
  {
   "cell_type": "markdown",
   "metadata": {},
   "source": [
    "<a id='comp1'></a>\n",
    "### SVRG2\n"
   ]
  },
  {
   "cell_type": "code",
   "execution_count": 131,
   "metadata": {},
   "outputs": [
    {
     "name": "stdout",
     "output_type": "stream",
     "text": [
      "\u001b[1mRegression (Cadata Dataset): \u001b[0m\n",
      "After iteration 10 loss is now:  6.332699353674544e+230\n"
     ]
    },
    {
     "ename": "OverflowError",
     "evalue": "(34, 'Result too large')",
     "output_type": "error",
     "traceback": [
      "\u001b[0;31m---------------------------------------------------------------------------\u001b[0m",
      "\u001b[0;31mOverflowError\u001b[0m                             Traceback (most recent call last)",
      "\u001b[0;32m<ipython-input-131-bf30e987b101>\u001b[0m in \u001b[0;36m<module>\u001b[0;34m()\u001b[0m\n\u001b[1;32m      8\u001b[0m \u001b[0mmax_squared_sum\u001b[0m \u001b[0;34m=\u001b[0m \u001b[0mnp\u001b[0m\u001b[0;34m.\u001b[0m\u001b[0mmax\u001b[0m\u001b[0;34m(\u001b[0m\u001b[0mnp\u001b[0m\u001b[0;34m.\u001b[0m\u001b[0msum\u001b[0m\u001b[0;34m(\u001b[0m\u001b[0mx_train_r\u001b[0m \u001b[0;34m**\u001b[0m \u001b[0;36m2\u001b[0m\u001b[0;34m,\u001b[0m \u001b[0maxis\u001b[0m\u001b[0;34m=\u001b[0m\u001b[0;36m1\u001b[0m\u001b[0;34m)\u001b[0m\u001b[0;34m)\u001b[0m\u001b[0;34m\u001b[0m\u001b[0m\n\u001b[1;32m      9\u001b[0m \u001b[0mstepsize\u001b[0m \u001b[0;34m=\u001b[0m \u001b[0;36m2\u001b[0m\u001b[0;34m**\u001b[0m\u001b[0;36m5\u001b[0m \u001b[0;34m/\u001b[0m \u001b[0;34m(\u001b[0m\u001b[0mmax_squared_sum\u001b[0m \u001b[0;34m+\u001b[0m \u001b[0mlbda\u001b[0m\u001b[0;34m)\u001b[0m\u001b[0;34m\u001b[0m\u001b[0m\n\u001b[0;32m---> 10\u001b[0;31m \u001b[0msvrg_reg\u001b[0m \u001b[0;34m=\u001b[0m \u001b[0moptimize_svrg_2\u001b[0m\u001b[0;34m(\u001b[0m\u001b[0;36m100\u001b[0m\u001b[0;34m,\u001b[0m \u001b[0;36m2\u001b[0m \u001b[0;34m*\u001b[0m \u001b[0;36m100\u001b[0m\u001b[0;34m,\u001b[0m \u001b[0mx_train_r\u001b[0m\u001b[0;34m,\u001b[0m \u001b[0my_train_r\u001b[0m\u001b[0;34m,\u001b[0m \u001b[0mstepsize\u001b[0m\u001b[0;34m,\u001b[0m \u001b[0mmodel\u001b[0m\u001b[0;34m)\u001b[0m\u001b[0;34m\u001b[0m\u001b[0m\n\u001b[0m",
      "\u001b[0;32m<ipython-input-128-aa4f7aaeb39f>\u001b[0m in \u001b[0;36moptimize_svrg_2\u001b[0;34m(itr1, itr2, x_train, y_train, stepsize, model)\u001b[0m\n\u001b[1;32m     25\u001b[0m \u001b[0;34m\u001b[0m\u001b[0m\n\u001b[1;32m     26\u001b[0m         \u001b[0;32mif\u001b[0m \u001b[0;34m(\u001b[0m\u001b[0mk\u001b[0m \u001b[0;34m%\u001b[0m \u001b[0;36m10\u001b[0m\u001b[0;34m)\u001b[0m \u001b[0;34m==\u001b[0m \u001b[0;36m0\u001b[0m\u001b[0;34m:\u001b[0m\u001b[0;34m\u001b[0m\u001b[0m\n\u001b[0;32m---> 27\u001b[0;31m             \u001b[0mprint\u001b[0m\u001b[0;34m(\u001b[0m\u001b[0;34m\"After iteration {} loss is now: \"\u001b[0m\u001b[0;34m.\u001b[0m\u001b[0mformat\u001b[0m\u001b[0;34m(\u001b[0m\u001b[0mk\u001b[0m\u001b[0;34m)\u001b[0m\u001b[0;34m,\u001b[0m \u001b[0mmodel\u001b[0m\u001b[0;34m.\u001b[0m\u001b[0mloss\u001b[0m\u001b[0;34m(\u001b[0m\u001b[0mtheta_bar\u001b[0m\u001b[0;34m)\u001b[0m\u001b[0;34m)\u001b[0m\u001b[0;34m\u001b[0m\u001b[0m\n\u001b[0m\u001b[1;32m     28\u001b[0m             \u001b[0mloss_history\u001b[0m\u001b[0;34m.\u001b[0m\u001b[0mappend\u001b[0m\u001b[0;34m(\u001b[0m\u001b[0mmodel\u001b[0m\u001b[0;34m.\u001b[0m\u001b[0mloss\u001b[0m\u001b[0;34m(\u001b[0m\u001b[0mtheta_bar\u001b[0m\u001b[0;34m)\u001b[0m\u001b[0;34m)\u001b[0m\u001b[0;34m\u001b[0m\u001b[0m\n\u001b[1;32m     29\u001b[0m     \u001b[0mplt\u001b[0m\u001b[0;34m.\u001b[0m\u001b[0mplot\u001b[0m\u001b[0;34m(\u001b[0m\u001b[0mloss_history\u001b[0m\u001b[0;34m)\u001b[0m\u001b[0;34m\u001b[0m\u001b[0m\n",
      "\u001b[0;32m<ipython-input-123-e16259ab7e92>\u001b[0m in \u001b[0;36mloss\u001b[0;34m(self, theta)\u001b[0m\n\u001b[1;32m     14\u001b[0m \u001b[0;34m\u001b[0m\u001b[0m\n\u001b[1;32m     15\u001b[0m     \u001b[0;32mdef\u001b[0m \u001b[0mloss\u001b[0m\u001b[0;34m(\u001b[0m\u001b[0mself\u001b[0m\u001b[0;34m,\u001b[0m \u001b[0mtheta\u001b[0m\u001b[0;34m)\u001b[0m\u001b[0;34m:\u001b[0m\u001b[0;34m\u001b[0m\u001b[0m\n\u001b[0;32m---> 16\u001b[0;31m         \u001b[0;32mreturn\u001b[0m \u001b[0mnorm\u001b[0m\u001b[0;34m(\u001b[0m\u001b[0mself\u001b[0m\u001b[0;34m.\u001b[0m\u001b[0mx_train\u001b[0m\u001b[0;34m.\u001b[0m\u001b[0mdot\u001b[0m\u001b[0;34m(\u001b[0m\u001b[0mtheta\u001b[0m\u001b[0;34m)\u001b[0m \u001b[0;34m-\u001b[0m \u001b[0mself\u001b[0m\u001b[0;34m.\u001b[0m\u001b[0my_train\u001b[0m\u001b[0;34m)\u001b[0m \u001b[0;34m**\u001b[0m \u001b[0;36m2\u001b[0m \u001b[0;34m/\u001b[0m \u001b[0;34m(\u001b[0m\u001b[0;36m2.\u001b[0m \u001b[0;34m*\u001b[0m \u001b[0mself\u001b[0m\u001b[0;34m.\u001b[0m\u001b[0mn\u001b[0m\u001b[0;34m)\u001b[0m \u001b[0;34m+\u001b[0m \u001b[0mself\u001b[0m\u001b[0;34m.\u001b[0m\u001b[0mlbda\u001b[0m \u001b[0;34m*\u001b[0m \u001b[0mnorm\u001b[0m\u001b[0;34m(\u001b[0m\u001b[0mtheta\u001b[0m\u001b[0;34m)\u001b[0m \u001b[0;34m**\u001b[0m \u001b[0;36m2\u001b[0m \u001b[0;34m/\u001b[0m \u001b[0;36m2.\u001b[0m\u001b[0;34m\u001b[0m\u001b[0m\n\u001b[0m\u001b[1;32m     17\u001b[0m \u001b[0;34m\u001b[0m\u001b[0m\n\u001b[1;32m     18\u001b[0m     \u001b[0;32mdef\u001b[0m \u001b[0mgrad_i\u001b[0m\u001b[0;34m(\u001b[0m\u001b[0mself\u001b[0m\u001b[0;34m,\u001b[0m \u001b[0mi\u001b[0m\u001b[0;34m,\u001b[0m \u001b[0mtheta\u001b[0m\u001b[0;34m)\u001b[0m\u001b[0;34m:\u001b[0m\u001b[0;34m\u001b[0m\u001b[0m\n",
      "\u001b[0;31mOverflowError\u001b[0m: (34, 'Result too large')"
     ]
    }
   ],
   "source": [
    "# Test for Regression\n",
    "print(\"\\033[1mRegression (Cadata Dataset): \\033[0m\")\n",
    "n = x_train_r.shape[0]\n",
    "lbda = 1. / n ** (0.5)\n",
    "#lbda = np.max(np.sum(x_train_r ** 2, axis=1))  / (4. * n)\n",
    "model = Regression(x_train_r, y_train_r, lbda)\n",
    "\n",
    "max_squared_sum = np.max(np.sum(x_train_r ** 2, axis=1)) \n",
    "stepsize = 2**5 / (max_squared_sum + lbda) \n",
    "svrg_reg = optimize_svrg_2(100, 2 * 100, x_train_r, y_train_r, stepsize, model)"
   ]
  },
  {
   "cell_type": "code",
   "execution_count": null,
   "metadata": {
    "collapsed": true
   },
   "outputs": [],
   "source": []
  }
 ],
 "metadata": {
  "kernelspec": {
   "display_name": "Python 3",
   "language": "python",
   "name": "python3"
  },
  "language_info": {
   "codemirror_mode": {
    "name": "ipython",
    "version": 3
   },
   "file_extension": ".py",
   "mimetype": "text/x-python",
   "name": "python",
   "nbconvert_exporter": "python",
   "pygments_lexer": "ipython3",
   "version": "3.6.3"
  }
 },
 "nbformat": 4,
 "nbformat_minor": 2
}
